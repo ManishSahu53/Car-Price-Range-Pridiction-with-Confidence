{
 "cells": [
  {
   "cell_type": "code",
   "execution_count": 3,
   "metadata": {},
   "outputs": [],
   "source": [
    "# import nltk\n",
    "import pandas as pd\n",
    "import json\n",
    "import matplotlib.pyplot as plt\n",
    "import numpy as np"
   ]
  },
  {
   "cell_type": "code",
   "execution_count": 151,
   "metadata": {},
   "outputs": [],
   "source": [
    "from sklearn.metrics import mean_squared_error\n",
    "import math\n",
    "from sklearn.model_selection import train_test_split\n",
    "from sklearn.linear_model import LinearRegression\n",
    "from sklearn.tree import DecisionTreeRegressor\n",
    "from sklearn.ensemble import RandomForestRegressor"
   ]
  },
  {
   "cell_type": "code",
   "execution_count": 177,
   "metadata": {},
   "outputs": [],
   "source": [
    "path_json = 'data/oto_car_json.json'"
   ]
  },
  {
   "cell_type": "code",
   "execution_count": 207,
   "metadata": {},
   "outputs": [],
   "source": [
    "df = pd.read_json(path_json,lines=True)"
   ]
  },
  {
   "cell_type": "code",
   "execution_count": 208,
   "metadata": {},
   "outputs": [],
   "source": [
    "df = df[df.model=='Suzuki Ertiga (2016-2017) GL MT']"
   ]
  },
  {
   "cell_type": "code",
   "execution_count": 209,
   "metadata": {},
   "outputs": [],
   "source": [
    "model = list(df.model)"
   ]
  },
  {
   "cell_type": "code",
   "execution_count": 212,
   "metadata": {},
   "outputs": [
    {
     "data": {
      "text/html": [
       "<div>\n",
       "<style scoped>\n",
       "    .dataframe tbody tr th:only-of-type {\n",
       "        vertical-align: middle;\n",
       "    }\n",
       "\n",
       "    .dataframe tbody tr th {\n",
       "        vertical-align: top;\n",
       "    }\n",
       "\n",
       "    .dataframe thead th {\n",
       "        text-align: right;\n",
       "    }\n",
       "</style>\n",
       "<table border=\"1\" class=\"dataframe\">\n",
       "  <thead>\n",
       "    <tr style=\"text-align: right;\">\n",
       "      <th></th>\n",
       "      <th>city</th>\n",
       "      <th>brand</th>\n",
       "      <th>km</th>\n",
       "      <th>year</th>\n",
       "      <th>fuel</th>\n",
       "      <th>model</th>\n",
       "      <th>type</th>\n",
       "      <th>price</th>\n",
       "    </tr>\n",
       "  </thead>\n",
       "  <tbody>\n",
       "    <tr>\n",
       "      <th>1025</th>\n",
       "      <td>Jakarta Barat</td>\n",
       "      <td>suzuki</td>\n",
       "      <td>27154.0</td>\n",
       "      <td>2016</td>\n",
       "      <td>Bensin</td>\n",
       "      <td>Suzuki Ertiga (2016-2017) GL MT</td>\n",
       "      <td>mpv</td>\n",
       "      <td>125000000</td>\n",
       "    </tr>\n",
       "    <tr>\n",
       "      <th>1029</th>\n",
       "      <td>Jakarta Barat</td>\n",
       "      <td>suzuki</td>\n",
       "      <td>10335.0</td>\n",
       "      <td>2016</td>\n",
       "      <td>Bensin</td>\n",
       "      <td>Suzuki Ertiga (2016-2017) GL MT</td>\n",
       "      <td>mpv</td>\n",
       "      <td>140000000</td>\n",
       "    </tr>\n",
       "    <tr>\n",
       "      <th>1030</th>\n",
       "      <td>Jakarta Barat</td>\n",
       "      <td>suzuki</td>\n",
       "      <td>14314.0</td>\n",
       "      <td>2016</td>\n",
       "      <td>Bensin</td>\n",
       "      <td>Suzuki Ertiga (2016-2017) GL MT</td>\n",
       "      <td>mpv</td>\n",
       "      <td>140000000</td>\n",
       "    </tr>\n",
       "    <tr>\n",
       "      <th>1031</th>\n",
       "      <td>Jakarta Barat</td>\n",
       "      <td>suzuki</td>\n",
       "      <td>25580.0</td>\n",
       "      <td>2016</td>\n",
       "      <td>Bensin</td>\n",
       "      <td>Suzuki Ertiga (2016-2017) GL MT</td>\n",
       "      <td>mpv</td>\n",
       "      <td>140000000</td>\n",
       "    </tr>\n",
       "    <tr>\n",
       "      <th>1035</th>\n",
       "      <td>Jakarta Barat</td>\n",
       "      <td>suzuki</td>\n",
       "      <td>11889.0</td>\n",
       "      <td>2017</td>\n",
       "      <td>Bensin</td>\n",
       "      <td>Suzuki Ertiga (2016-2017) GL MT</td>\n",
       "      <td>mpv</td>\n",
       "      <td>145000000</td>\n",
       "    </tr>\n",
       "  </tbody>\n",
       "</table>\n",
       "</div>"
      ],
      "text/plain": [
       "               city   brand       km  year    fuel  \\\n",
       "1025  Jakarta Barat  suzuki  27154.0  2016  Bensin   \n",
       "1029  Jakarta Barat  suzuki  10335.0  2016  Bensin   \n",
       "1030  Jakarta Barat  suzuki  14314.0  2016  Bensin   \n",
       "1031  Jakarta Barat  suzuki  25580.0  2016  Bensin   \n",
       "1035  Jakarta Barat  suzuki  11889.0  2017  Bensin   \n",
       "\n",
       "                                model type      price  \n",
       "1025  Suzuki Ertiga (2016-2017) GL MT  mpv  125000000  \n",
       "1029  Suzuki Ertiga (2016-2017) GL MT  mpv  140000000  \n",
       "1030  Suzuki Ertiga (2016-2017) GL MT  mpv  140000000  \n",
       "1031  Suzuki Ertiga (2016-2017) GL MT  mpv  140000000  \n",
       "1035  Suzuki Ertiga (2016-2017) GL MT  mpv  145000000  "
      ]
     },
     "execution_count": 212,
     "metadata": {},
     "output_type": "execute_result"
    }
   ],
   "source": [
    "df.head()"
   ]
  },
  {
   "cell_type": "code",
   "execution_count": 213,
   "metadata": {},
   "outputs": [],
   "source": [
    "df.to_csv('data/testing/test_ertiga.csv')"
   ]
  },
  {
   "cell_type": "markdown",
   "metadata": {},
   "source": [
    "## Pre-Processing dataset"
   ]
  },
  {
   "cell_type": "code",
   "execution_count": 132,
   "metadata": {},
   "outputs": [
    {
     "name": "stdout",
     "output_type": "stream",
     "text": [
      "Total Dataset available before removing duplicates : 463\n"
     ]
    }
   ],
   "source": [
    "print('Total Dataset available before removing duplicates : %d' %(len(df)))"
   ]
  },
  {
   "cell_type": "markdown",
   "metadata": {},
   "source": [
    "1. Creating string km to float"
   ]
  },
  {
   "cell_type": "code",
   "execution_count": 211,
   "metadata": {},
   "outputs": [],
   "source": [
    "df['km'] = df['km'].apply(lambda x: str(x))\n",
    "df['km'] = df['km'].apply(lambda x: removedot(x))\n",
    "df['km'] = df['km'].apply(lambda x: float(x))"
   ]
  },
  {
   "cell_type": "code",
   "execution_count": 126,
   "metadata": {},
   "outputs": [],
   "source": [
    "def removedot(s):\n",
    "    s = s.replace('.','')\n",
    "    return s"
   ]
  },
  {
   "cell_type": "code",
   "execution_count": 127,
   "metadata": {},
   "outputs": [],
   "source": [
    "def convert_price(s):\n",
    "    a = removedot(s)\n",
    "    b = a.replace(' ', ',')\n",
    "    c = b.split(',')\n",
    "    d = c[1:][0]\n",
    "    return float(d)"
   ]
  },
  {
   "cell_type": "code",
   "execution_count": 97,
   "metadata": {
    "scrolled": true
   },
   "outputs": [
    {
     "data": {
      "text/plain": [
       "149000000.0"
      ]
     },
     "execution_count": 97,
     "metadata": {},
     "output_type": "execute_result"
    }
   ],
   "source": [
    "convert_price(df.Price[0])"
   ]
  },
  {
   "cell_type": "code",
   "execution_count": 98,
   "metadata": {},
   "outputs": [],
   "source": [
    "def convert_distance(s):\n",
    "    a = removedot(s)\n",
    "    b = a.replace(' ', ',')\n",
    "    c = b.replace('-', ',')\n",
    "    d = c.split(',')\n",
    "    avg = (float(d[0]) + float(d[1]))/2\n",
    "    return avg"
   ]
  },
  {
   "cell_type": "code",
   "execution_count": 99,
   "metadata": {},
   "outputs": [
    {
     "data": {
      "text/plain": [
       "72500.0"
      ]
     },
     "execution_count": 99,
     "metadata": {},
     "output_type": "execute_result"
    }
   ],
   "source": [
    "convert_distance(df.Distance[0])"
   ]
  },
  {
   "cell_type": "code",
   "execution_count": 100,
   "metadata": {
    "collapsed": true
   },
   "outputs": [
    {
     "ename": "ValueError",
     "evalue": "could not convert string to float: '>300000'",
     "output_type": "error",
     "traceback": [
      "\u001b[0;31m--------------------------------------------------\u001b[0m",
      "\u001b[0;31mValueError\u001b[0m       Traceback (most recent call last)",
      "\u001b[0;32m<ipython-input-100-cb334cff1534>\u001b[0m in \u001b[0;36m<module>\u001b[0;34m\u001b[0m\n\u001b[0;32m----> 1\u001b[0;31m \u001b[0mdf\u001b[0m\u001b[0;34m[\u001b[0m\u001b[0;34m'km'\u001b[0m\u001b[0;34m]\u001b[0m \u001b[0;34m=\u001b[0m \u001b[0mdf\u001b[0m\u001b[0;34m[\u001b[0m\u001b[0;34m'Distance'\u001b[0m\u001b[0;34m]\u001b[0m\u001b[0;34m.\u001b[0m\u001b[0mapply\u001b[0m\u001b[0;34m(\u001b[0m\u001b[0;32mlambda\u001b[0m \u001b[0mx\u001b[0m\u001b[0;34m:\u001b[0m \u001b[0mconvert_distance\u001b[0m\u001b[0;34m(\u001b[0m\u001b[0mx\u001b[0m\u001b[0;34m)\u001b[0m\u001b[0;34m)\u001b[0m\u001b[0;34m\u001b[0m\u001b[0;34m\u001b[0m\u001b[0m\n\u001b[0m",
      "\u001b[0;32m~/miniconda3/envs/py3/lib/python3.6/site-packages/pandas/core/series.py\u001b[0m in \u001b[0;36mapply\u001b[0;34m(self, func, convert_dtype, args, **kwds)\u001b[0m\n\u001b[1;32m   4036\u001b[0m             \u001b[0;32melse\u001b[0m\u001b[0;34m:\u001b[0m\u001b[0;34m\u001b[0m\u001b[0;34m\u001b[0m\u001b[0m\n\u001b[1;32m   4037\u001b[0m                 \u001b[0mvalues\u001b[0m \u001b[0;34m=\u001b[0m \u001b[0mself\u001b[0m\u001b[0;34m.\u001b[0m\u001b[0mastype\u001b[0m\u001b[0;34m(\u001b[0m\u001b[0mobject\u001b[0m\u001b[0;34m)\u001b[0m\u001b[0;34m.\u001b[0m\u001b[0mvalues\u001b[0m\u001b[0;34m\u001b[0m\u001b[0;34m\u001b[0m\u001b[0m\n\u001b[0;32m-> 4038\u001b[0;31m                 \u001b[0mmapped\u001b[0m \u001b[0;34m=\u001b[0m \u001b[0mlib\u001b[0m\u001b[0;34m.\u001b[0m\u001b[0mmap_infer\u001b[0m\u001b[0;34m(\u001b[0m\u001b[0mvalues\u001b[0m\u001b[0;34m,\u001b[0m \u001b[0mf\u001b[0m\u001b[0;34m,\u001b[0m \u001b[0mconvert\u001b[0m\u001b[0;34m=\u001b[0m\u001b[0mconvert_dtype\u001b[0m\u001b[0;34m)\u001b[0m\u001b[0;34m\u001b[0m\u001b[0;34m\u001b[0m\u001b[0m\n\u001b[0m\u001b[1;32m   4039\u001b[0m \u001b[0;34m\u001b[0m\u001b[0m\n\u001b[1;32m   4040\u001b[0m         \u001b[0;32mif\u001b[0m \u001b[0mlen\u001b[0m\u001b[0;34m(\u001b[0m\u001b[0mmapped\u001b[0m\u001b[0;34m)\u001b[0m \u001b[0;32mand\u001b[0m \u001b[0misinstance\u001b[0m\u001b[0;34m(\u001b[0m\u001b[0mmapped\u001b[0m\u001b[0;34m[\u001b[0m\u001b[0;36m0\u001b[0m\u001b[0;34m]\u001b[0m\u001b[0;34m,\u001b[0m \u001b[0mSeries\u001b[0m\u001b[0;34m)\u001b[0m\u001b[0;34m:\u001b[0m\u001b[0;34m\u001b[0m\u001b[0;34m\u001b[0m\u001b[0m\n",
      "\u001b[0;32mpandas/_libs/lib.pyx\u001b[0m in \u001b[0;36mpandas._libs.lib.map_infer\u001b[0;34m()\u001b[0m\n",
      "\u001b[0;32m<ipython-input-100-cb334cff1534>\u001b[0m in \u001b[0;36m<lambda>\u001b[0;34m(x)\u001b[0m\n\u001b[0;32m----> 1\u001b[0;31m \u001b[0mdf\u001b[0m\u001b[0;34m[\u001b[0m\u001b[0;34m'km'\u001b[0m\u001b[0;34m]\u001b[0m \u001b[0;34m=\u001b[0m \u001b[0mdf\u001b[0m\u001b[0;34m[\u001b[0m\u001b[0;34m'Distance'\u001b[0m\u001b[0;34m]\u001b[0m\u001b[0;34m.\u001b[0m\u001b[0mapply\u001b[0m\u001b[0;34m(\u001b[0m\u001b[0;32mlambda\u001b[0m \u001b[0mx\u001b[0m\u001b[0;34m:\u001b[0m \u001b[0mconvert_distance\u001b[0m\u001b[0;34m(\u001b[0m\u001b[0mx\u001b[0m\u001b[0;34m)\u001b[0m\u001b[0;34m)\u001b[0m\u001b[0;34m\u001b[0m\u001b[0;34m\u001b[0m\u001b[0m\n\u001b[0m",
      "\u001b[0;32m<ipython-input-98-e4dc00bc1151>\u001b[0m in \u001b[0;36mconvert_distance\u001b[0;34m(s)\u001b[0m\n\u001b[1;32m      4\u001b[0m     \u001b[0mc\u001b[0m \u001b[0;34m=\u001b[0m \u001b[0mb\u001b[0m\u001b[0;34m.\u001b[0m\u001b[0mreplace\u001b[0m\u001b[0;34m(\u001b[0m\u001b[0;34m'-'\u001b[0m\u001b[0;34m,\u001b[0m \u001b[0;34m','\u001b[0m\u001b[0;34m)\u001b[0m\u001b[0;34m\u001b[0m\u001b[0;34m\u001b[0m\u001b[0m\n\u001b[1;32m      5\u001b[0m     \u001b[0md\u001b[0m \u001b[0;34m=\u001b[0m \u001b[0mc\u001b[0m\u001b[0;34m.\u001b[0m\u001b[0msplit\u001b[0m\u001b[0;34m(\u001b[0m\u001b[0;34m','\u001b[0m\u001b[0;34m)\u001b[0m\u001b[0;34m\u001b[0m\u001b[0;34m\u001b[0m\u001b[0m\n\u001b[0;32m----> 6\u001b[0;31m     \u001b[0mavg\u001b[0m \u001b[0;34m=\u001b[0m \u001b[0;34m(\u001b[0m\u001b[0mfloat\u001b[0m\u001b[0;34m(\u001b[0m\u001b[0md\u001b[0m\u001b[0;34m[\u001b[0m\u001b[0;36m0\u001b[0m\u001b[0;34m]\u001b[0m\u001b[0;34m)\u001b[0m \u001b[0;34m+\u001b[0m \u001b[0mfloat\u001b[0m\u001b[0;34m(\u001b[0m\u001b[0md\u001b[0m\u001b[0;34m[\u001b[0m\u001b[0;36m1\u001b[0m\u001b[0;34m]\u001b[0m\u001b[0;34m)\u001b[0m\u001b[0;34m)\u001b[0m\u001b[0;34m/\u001b[0m\u001b[0;36m2\u001b[0m\u001b[0;34m\u001b[0m\u001b[0;34m\u001b[0m\u001b[0m\n\u001b[0m\u001b[1;32m      7\u001b[0m     \u001b[0;32mreturn\u001b[0m \u001b[0mavg\u001b[0m\u001b[0;34m\u001b[0m\u001b[0;34m\u001b[0m\u001b[0m\n",
      "\u001b[0;31mValueError\u001b[0m: could not convert string to float: '>300000'"
     ]
    }
   ],
   "source": [
    "df['km'] = df['lm'].apply(lambda x:str(x))"
   ]
  },
  {
   "cell_type": "code",
   "execution_count": null,
   "metadata": {},
   "outputs": [],
   "source": []
  },
  {
   "cell_type": "code",
   "execution_count": 13,
   "metadata": {
    "collapsed": true
   },
   "outputs": [
    {
     "ename": "ValueError",
     "evalue": "could not convert string to float: '75.000-80.000 km'",
     "output_type": "error",
     "traceback": [
      "\u001b[0;31m--------------------------------------------------\u001b[0m",
      "\u001b[0;31mValueError\u001b[0m       Traceback (most recent call last)",
      "\u001b[0;32m<ipython-input-13-95dbb2de3f4c>\u001b[0m in \u001b[0;36m<module>\u001b[0;34m\u001b[0m\n\u001b[0;32m----> 1\u001b[0;31m \u001b[0mdf\u001b[0m\u001b[0;34m[\u001b[0m\u001b[0;34m'Distance'\u001b[0m\u001b[0;34m]\u001b[0m \u001b[0;34m=\u001b[0m \u001b[0mdf\u001b[0m\u001b[0;34m[\u001b[0m\u001b[0;34m'Distance'\u001b[0m\u001b[0;34m]\u001b[0m\u001b[0;34m.\u001b[0m\u001b[0mapply\u001b[0m\u001b[0;34m(\u001b[0m\u001b[0;32mlambda\u001b[0m \u001b[0mx\u001b[0m\u001b[0;34m:\u001b[0m \u001b[0mfloat\u001b[0m\u001b[0;34m(\u001b[0m\u001b[0mx\u001b[0m\u001b[0;34m)\u001b[0m\u001b[0;34m)\u001b[0m\u001b[0;34m\u001b[0m\u001b[0;34m\u001b[0m\u001b[0m\n\u001b[0m\u001b[1;32m      2\u001b[0m \u001b[0mdf\u001b[0m\u001b[0;34m[\u001b[0m\u001b[0;34m'km'\u001b[0m\u001b[0;34m]\u001b[0m \u001b[0;34m=\u001b[0m \u001b[0mdf\u001b[0m\u001b[0;34m[\u001b[0m\u001b[0;34m'Distance'\u001b[0m\u001b[0;34m]\u001b[0m\u001b[0;34m\u001b[0m\u001b[0;34m\u001b[0m\u001b[0m\n\u001b[1;32m      3\u001b[0m \u001b[0mdf\u001b[0m\u001b[0;34m[\u001b[0m\u001b[0;34m'fuel'\u001b[0m\u001b[0;34m]\u001b[0m \u001b[0;34m=\u001b[0m \u001b[0mdf\u001b[0m\u001b[0;34m[\u001b[0m\u001b[0;34m'Fuel Type'\u001b[0m\u001b[0;34m]\u001b[0m\u001b[0;34m.\u001b[0m\u001b[0mapply\u001b[0m\u001b[0;34m(\u001b[0m\u001b[0;32mlambda\u001b[0m \u001b[0mx\u001b[0m\u001b[0;34m:\u001b[0m \u001b[0mx\u001b[0m\u001b[0;34m.\u001b[0m\u001b[0mlower\u001b[0m\u001b[0;34m(\u001b[0m\u001b[0;34m)\u001b[0m\u001b[0;34m)\u001b[0m\u001b[0;34m\u001b[0m\u001b[0;34m\u001b[0m\u001b[0m\n\u001b[1;32m      4\u001b[0m \u001b[0mdf\u001b[0m\u001b[0;34m[\u001b[0m\u001b[0;34m'model'\u001b[0m\u001b[0;34m]\u001b[0m \u001b[0;34m=\u001b[0m \u001b[0mdf\u001b[0m\u001b[0;34m[\u001b[0m\u001b[0;34m'Model'\u001b[0m\u001b[0;34m]\u001b[0m\u001b[0;34m.\u001b[0m\u001b[0mapply\u001b[0m\u001b[0;34m(\u001b[0m\u001b[0;32mlambda\u001b[0m \u001b[0mx\u001b[0m\u001b[0;34m:\u001b[0m \u001b[0mx\u001b[0m\u001b[0;34m.\u001b[0m\u001b[0mlower\u001b[0m\u001b[0;34m(\u001b[0m\u001b[0;34m)\u001b[0m\u001b[0;34m)\u001b[0m\u001b[0;34m\u001b[0m\u001b[0;34m\u001b[0m\u001b[0m\n\u001b[1;32m      5\u001b[0m \u001b[0mdf\u001b[0m\u001b[0;34m[\u001b[0m\u001b[0;34m'year'\u001b[0m\u001b[0;34m]\u001b[0m \u001b[0;34m=\u001b[0m \u001b[0mdf\u001b[0m\u001b[0;34m[\u001b[0m\u001b[0;34m'Year'\u001b[0m\u001b[0;34m]\u001b[0m\u001b[0;34m.\u001b[0m\u001b[0mapply\u001b[0m\u001b[0;34m(\u001b[0m\u001b[0;32mlambda\u001b[0m \u001b[0mx\u001b[0m\u001b[0;34m:\u001b[0m \u001b[0mfloat\u001b[0m\u001b[0;34m(\u001b[0m\u001b[0mx\u001b[0m\u001b[0;34m)\u001b[0m\u001b[0;34m)\u001b[0m\u001b[0;34m\u001b[0m\u001b[0;34m\u001b[0m\u001b[0m\n",
      "\u001b[0;32m~/miniconda3/envs/py3/lib/python3.6/site-packages/pandas/core/series.py\u001b[0m in \u001b[0;36mapply\u001b[0;34m(self, func, convert_dtype, args, **kwds)\u001b[0m\n\u001b[1;32m   4036\u001b[0m             \u001b[0;32melse\u001b[0m\u001b[0;34m:\u001b[0m\u001b[0;34m\u001b[0m\u001b[0;34m\u001b[0m\u001b[0m\n\u001b[1;32m   4037\u001b[0m                 \u001b[0mvalues\u001b[0m \u001b[0;34m=\u001b[0m \u001b[0mself\u001b[0m\u001b[0;34m.\u001b[0m\u001b[0mastype\u001b[0m\u001b[0;34m(\u001b[0m\u001b[0mobject\u001b[0m\u001b[0;34m)\u001b[0m\u001b[0;34m.\u001b[0m\u001b[0mvalues\u001b[0m\u001b[0;34m\u001b[0m\u001b[0;34m\u001b[0m\u001b[0m\n\u001b[0;32m-> 4038\u001b[0;31m                 \u001b[0mmapped\u001b[0m \u001b[0;34m=\u001b[0m \u001b[0mlib\u001b[0m\u001b[0;34m.\u001b[0m\u001b[0mmap_infer\u001b[0m\u001b[0;34m(\u001b[0m\u001b[0mvalues\u001b[0m\u001b[0;34m,\u001b[0m \u001b[0mf\u001b[0m\u001b[0;34m,\u001b[0m \u001b[0mconvert\u001b[0m\u001b[0;34m=\u001b[0m\u001b[0mconvert_dtype\u001b[0m\u001b[0;34m)\u001b[0m\u001b[0;34m\u001b[0m\u001b[0;34m\u001b[0m\u001b[0m\n\u001b[0m\u001b[1;32m   4039\u001b[0m \u001b[0;34m\u001b[0m\u001b[0m\n\u001b[1;32m   4040\u001b[0m         \u001b[0;32mif\u001b[0m \u001b[0mlen\u001b[0m\u001b[0;34m(\u001b[0m\u001b[0mmapped\u001b[0m\u001b[0;34m)\u001b[0m \u001b[0;32mand\u001b[0m \u001b[0misinstance\u001b[0m\u001b[0;34m(\u001b[0m\u001b[0mmapped\u001b[0m\u001b[0;34m[\u001b[0m\u001b[0;36m0\u001b[0m\u001b[0;34m]\u001b[0m\u001b[0;34m,\u001b[0m \u001b[0mSeries\u001b[0m\u001b[0;34m)\u001b[0m\u001b[0;34m:\u001b[0m\u001b[0;34m\u001b[0m\u001b[0;34m\u001b[0m\u001b[0m\n",
      "\u001b[0;32mpandas/_libs/lib.pyx\u001b[0m in \u001b[0;36mpandas._libs.lib.map_infer\u001b[0;34m()\u001b[0m\n",
      "\u001b[0;32m<ipython-input-13-95dbb2de3f4c>\u001b[0m in \u001b[0;36m<lambda>\u001b[0;34m(x)\u001b[0m\n\u001b[0;32m----> 1\u001b[0;31m \u001b[0mdf\u001b[0m\u001b[0;34m[\u001b[0m\u001b[0;34m'Distance'\u001b[0m\u001b[0;34m]\u001b[0m \u001b[0;34m=\u001b[0m \u001b[0mdf\u001b[0m\u001b[0;34m[\u001b[0m\u001b[0;34m'Distance'\u001b[0m\u001b[0;34m]\u001b[0m\u001b[0;34m.\u001b[0m\u001b[0mapply\u001b[0m\u001b[0;34m(\u001b[0m\u001b[0;32mlambda\u001b[0m \u001b[0mx\u001b[0m\u001b[0;34m:\u001b[0m \u001b[0mfloat\u001b[0m\u001b[0;34m(\u001b[0m\u001b[0mx\u001b[0m\u001b[0;34m)\u001b[0m\u001b[0;34m)\u001b[0m\u001b[0;34m\u001b[0m\u001b[0;34m\u001b[0m\u001b[0m\n\u001b[0m\u001b[1;32m      2\u001b[0m \u001b[0mdf\u001b[0m\u001b[0;34m[\u001b[0m\u001b[0;34m'km'\u001b[0m\u001b[0;34m]\u001b[0m \u001b[0;34m=\u001b[0m \u001b[0mdf\u001b[0m\u001b[0;34m[\u001b[0m\u001b[0;34m'Distance'\u001b[0m\u001b[0;34m]\u001b[0m\u001b[0;34m\u001b[0m\u001b[0;34m\u001b[0m\u001b[0m\n\u001b[1;32m      3\u001b[0m \u001b[0mdf\u001b[0m\u001b[0;34m[\u001b[0m\u001b[0;34m'fuel'\u001b[0m\u001b[0;34m]\u001b[0m \u001b[0;34m=\u001b[0m \u001b[0mdf\u001b[0m\u001b[0;34m[\u001b[0m\u001b[0;34m'Fuel Type'\u001b[0m\u001b[0;34m]\u001b[0m\u001b[0;34m.\u001b[0m\u001b[0mapply\u001b[0m\u001b[0;34m(\u001b[0m\u001b[0;32mlambda\u001b[0m \u001b[0mx\u001b[0m\u001b[0;34m:\u001b[0m \u001b[0mx\u001b[0m\u001b[0;34m.\u001b[0m\u001b[0mlower\u001b[0m\u001b[0;34m(\u001b[0m\u001b[0;34m)\u001b[0m\u001b[0;34m)\u001b[0m\u001b[0;34m\u001b[0m\u001b[0;34m\u001b[0m\u001b[0m\n\u001b[1;32m      4\u001b[0m \u001b[0mdf\u001b[0m\u001b[0;34m[\u001b[0m\u001b[0;34m'model'\u001b[0m\u001b[0;34m]\u001b[0m \u001b[0;34m=\u001b[0m \u001b[0mdf\u001b[0m\u001b[0;34m[\u001b[0m\u001b[0;34m'Model'\u001b[0m\u001b[0;34m]\u001b[0m\u001b[0;34m.\u001b[0m\u001b[0mapply\u001b[0m\u001b[0;34m(\u001b[0m\u001b[0;32mlambda\u001b[0m \u001b[0mx\u001b[0m\u001b[0;34m:\u001b[0m \u001b[0mx\u001b[0m\u001b[0;34m.\u001b[0m\u001b[0mlower\u001b[0m\u001b[0;34m(\u001b[0m\u001b[0;34m)\u001b[0m\u001b[0;34m)\u001b[0m\u001b[0;34m\u001b[0m\u001b[0;34m\u001b[0m\u001b[0m\n\u001b[1;32m      5\u001b[0m \u001b[0mdf\u001b[0m\u001b[0;34m[\u001b[0m\u001b[0;34m'year'\u001b[0m\u001b[0;34m]\u001b[0m \u001b[0;34m=\u001b[0m \u001b[0mdf\u001b[0m\u001b[0;34m[\u001b[0m\u001b[0;34m'Year'\u001b[0m\u001b[0;34m]\u001b[0m\u001b[0;34m.\u001b[0m\u001b[0mapply\u001b[0m\u001b[0;34m(\u001b[0m\u001b[0;32mlambda\u001b[0m \u001b[0mx\u001b[0m\u001b[0;34m:\u001b[0m \u001b[0mfloat\u001b[0m\u001b[0;34m(\u001b[0m\u001b[0mx\u001b[0m\u001b[0;34m)\u001b[0m\u001b[0;34m)\u001b[0m\u001b[0;34m\u001b[0m\u001b[0;34m\u001b[0m\u001b[0m\n",
      "\u001b[0;31mValueError\u001b[0m: could not convert string to float: '75.000-80.000 km'"
     ]
    }
   ],
   "source": [
    "df['km'] = df['Distance']\n",
    "df['fuel'] = df['Fuel Type'].apply(lambda x: x.lower())\n",
    "df['model'] = df['Model'].apply(lambda x: x.lower())\n",
    "df['year'] = df['Year'].apply(lambda x: float(x))"
   ]
  },
  {
   "cell_type": "code",
   "execution_count": 8,
   "metadata": {},
   "outputs": [],
   "source": [
    "df['km'] = df['km'].apply(lambda x: float(x))"
   ]
  },
  {
   "cell_type": "code",
   "execution_count": 9,
   "metadata": {},
   "outputs": [],
   "source": [
    "df['price'] = df['price'].apply(lambda x: float(x))"
   ]
  },
  {
   "cell_type": "markdown",
   "metadata": {},
   "source": [
    "2. All small caps "
   ]
  },
  {
   "cell_type": "code",
   "execution_count": 10,
   "metadata": {},
   "outputs": [],
   "source": [
    "df['fuel'] = df['fuel'].apply(lambda x: x.lower())\n",
    "df['model'] = df['model'].apply(lambda x: x.lower())\n",
    "df['brand'] = df['brand'].apply(lambda x: x.lower())\n",
    "df['city'] = df['city'].apply(lambda x: x.lower())\n",
    "df['type'] = df['type'].apply(lambda x: x.lower())"
   ]
  },
  {
   "cell_type": "code",
   "execution_count": 11,
   "metadata": {},
   "outputs": [
    {
     "data": {
      "text/html": [
       "<div>\n",
       "<style scoped>\n",
       "    .dataframe tbody tr th:only-of-type {\n",
       "        vertical-align: middle;\n",
       "    }\n",
       "\n",
       "    .dataframe tbody tr th {\n",
       "        vertical-align: top;\n",
       "    }\n",
       "\n",
       "    .dataframe thead th {\n",
       "        text-align: right;\n",
       "    }\n",
       "</style>\n",
       "<table border=\"1\" class=\"dataframe\">\n",
       "  <thead>\n",
       "    <tr style=\"text-align: right;\">\n",
       "      <th></th>\n",
       "      <th>city</th>\n",
       "      <th>brand</th>\n",
       "      <th>km</th>\n",
       "      <th>year</th>\n",
       "      <th>fuel</th>\n",
       "      <th>model</th>\n",
       "      <th>type</th>\n",
       "      <th>price</th>\n",
       "    </tr>\n",
       "  </thead>\n",
       "  <tbody>\n",
       "    <tr>\n",
       "      <th>0</th>\n",
       "      <td>tangerang selatan</td>\n",
       "      <td>lexus</td>\n",
       "      <td>26418.0</td>\n",
       "      <td>2012</td>\n",
       "      <td>bensin</td>\n",
       "      <td>lexus gs 200t</td>\n",
       "      <td>sedan</td>\n",
       "      <td>539000000.0</td>\n",
       "    </tr>\n",
       "    <tr>\n",
       "      <th>1</th>\n",
       "      <td>tangerang selatan</td>\n",
       "      <td>lexus</td>\n",
       "      <td>20950.0</td>\n",
       "      <td>2012</td>\n",
       "      <td>bensin</td>\n",
       "      <td>lexus gs 2015 250</td>\n",
       "      <td>sedan</td>\n",
       "      <td>475000000.0</td>\n",
       "    </tr>\n",
       "    <tr>\n",
       "      <th>2</th>\n",
       "      <td>tangerang selatan</td>\n",
       "      <td>lexus</td>\n",
       "      <td>31087.0</td>\n",
       "      <td>2012</td>\n",
       "      <td>bensin</td>\n",
       "      <td>lexus gs 2015 350</td>\n",
       "      <td>sedan</td>\n",
       "      <td>588000000.0</td>\n",
       "    </tr>\n",
       "    <tr>\n",
       "      <th>3</th>\n",
       "      <td>tangerang selatan</td>\n",
       "      <td>lexus</td>\n",
       "      <td>55992.0</td>\n",
       "      <td>2008</td>\n",
       "      <td>bensin</td>\n",
       "      <td>lexus ls 500</td>\n",
       "      <td>sedan</td>\n",
       "      <td>325000000.0</td>\n",
       "    </tr>\n",
       "    <tr>\n",
       "      <th>4</th>\n",
       "      <td>tangerang selatan</td>\n",
       "      <td>lexus</td>\n",
       "      <td>63217.0</td>\n",
       "      <td>2009</td>\n",
       "      <td>bensin</td>\n",
       "      <td>lexus ls 460</td>\n",
       "      <td>sedan</td>\n",
       "      <td>535000000.0</td>\n",
       "    </tr>\n",
       "  </tbody>\n",
       "</table>\n",
       "</div>"
      ],
      "text/plain": [
       "                city  brand       km  year    fuel              model   type  \\\n",
       "0  tangerang selatan  lexus  26418.0  2012  bensin      lexus gs 200t  sedan   \n",
       "1  tangerang selatan  lexus  20950.0  2012  bensin  lexus gs 2015 250  sedan   \n",
       "2  tangerang selatan  lexus  31087.0  2012  bensin  lexus gs 2015 350  sedan   \n",
       "3  tangerang selatan  lexus  55992.0  2008  bensin       lexus ls 500  sedan   \n",
       "4  tangerang selatan  lexus  63217.0  2009  bensin       lexus ls 460  sedan   \n",
       "\n",
       "         price  \n",
       "0  539000000.0  \n",
       "1  475000000.0  \n",
       "2  588000000.0  \n",
       "3  325000000.0  \n",
       "4  535000000.0  "
      ]
     },
     "execution_count": 11,
     "metadata": {},
     "output_type": "execute_result"
    }
   ],
   "source": [
    "df.head()"
   ]
  },
  {
   "cell_type": "markdown",
   "metadata": {},
   "source": [
    "3. Dropping Duplicates"
   ]
  },
  {
   "cell_type": "code",
   "execution_count": 12,
   "metadata": {},
   "outputs": [],
   "source": [
    "df = df.drop_duplicates()"
   ]
  },
  {
   "cell_type": "code",
   "execution_count": 13,
   "metadata": {},
   "outputs": [
    {
     "name": "stdout",
     "output_type": "stream",
     "text": [
      "Total Dataset available after removing duplicates : 14941\n"
     ]
    }
   ],
   "source": [
    "print('Total Dataset available after removing duplicates : %d' %(len(df)))"
   ]
  },
  {
   "cell_type": "code",
   "execution_count": 14,
   "metadata": {},
   "outputs": [],
   "source": [
    "df['count'] = 1"
   ]
  },
  {
   "cell_type": "markdown",
   "metadata": {},
   "source": [
    "4. Creating delta year wrt 2019"
   ]
  },
  {
   "cell_type": "code",
   "execution_count": 15,
   "metadata": {},
   "outputs": [
    {
     "data": {
      "text/html": [
       "<div>\n",
       "<style scoped>\n",
       "    .dataframe tbody tr th:only-of-type {\n",
       "        vertical-align: middle;\n",
       "    }\n",
       "\n",
       "    .dataframe tbody tr th {\n",
       "        vertical-align: top;\n",
       "    }\n",
       "\n",
       "    .dataframe thead th {\n",
       "        text-align: right;\n",
       "    }\n",
       "</style>\n",
       "<table border=\"1\" class=\"dataframe\">\n",
       "  <thead>\n",
       "    <tr style=\"text-align: right;\">\n",
       "      <th></th>\n",
       "      <th>city</th>\n",
       "      <th>brand</th>\n",
       "      <th>km</th>\n",
       "      <th>year</th>\n",
       "      <th>fuel</th>\n",
       "      <th>model</th>\n",
       "      <th>type</th>\n",
       "      <th>price</th>\n",
       "      <th>count</th>\n",
       "      <th>delta_year</th>\n",
       "    </tr>\n",
       "  </thead>\n",
       "  <tbody>\n",
       "    <tr>\n",
       "      <th>0</th>\n",
       "      <td>tangerang selatan</td>\n",
       "      <td>lexus</td>\n",
       "      <td>26418.0</td>\n",
       "      <td>2012</td>\n",
       "      <td>bensin</td>\n",
       "      <td>lexus gs 200t</td>\n",
       "      <td>sedan</td>\n",
       "      <td>539000000.0</td>\n",
       "      <td>1</td>\n",
       "      <td>7</td>\n",
       "    </tr>\n",
       "    <tr>\n",
       "      <th>1</th>\n",
       "      <td>tangerang selatan</td>\n",
       "      <td>lexus</td>\n",
       "      <td>20950.0</td>\n",
       "      <td>2012</td>\n",
       "      <td>bensin</td>\n",
       "      <td>lexus gs 2015 250</td>\n",
       "      <td>sedan</td>\n",
       "      <td>475000000.0</td>\n",
       "      <td>1</td>\n",
       "      <td>7</td>\n",
       "    </tr>\n",
       "    <tr>\n",
       "      <th>2</th>\n",
       "      <td>tangerang selatan</td>\n",
       "      <td>lexus</td>\n",
       "      <td>31087.0</td>\n",
       "      <td>2012</td>\n",
       "      <td>bensin</td>\n",
       "      <td>lexus gs 2015 350</td>\n",
       "      <td>sedan</td>\n",
       "      <td>588000000.0</td>\n",
       "      <td>1</td>\n",
       "      <td>7</td>\n",
       "    </tr>\n",
       "    <tr>\n",
       "      <th>3</th>\n",
       "      <td>tangerang selatan</td>\n",
       "      <td>lexus</td>\n",
       "      <td>55992.0</td>\n",
       "      <td>2008</td>\n",
       "      <td>bensin</td>\n",
       "      <td>lexus ls 500</td>\n",
       "      <td>sedan</td>\n",
       "      <td>325000000.0</td>\n",
       "      <td>1</td>\n",
       "      <td>11</td>\n",
       "    </tr>\n",
       "    <tr>\n",
       "      <th>4</th>\n",
       "      <td>tangerang selatan</td>\n",
       "      <td>lexus</td>\n",
       "      <td>63217.0</td>\n",
       "      <td>2009</td>\n",
       "      <td>bensin</td>\n",
       "      <td>lexus ls 460</td>\n",
       "      <td>sedan</td>\n",
       "      <td>535000000.0</td>\n",
       "      <td>1</td>\n",
       "      <td>10</td>\n",
       "    </tr>\n",
       "  </tbody>\n",
       "</table>\n",
       "</div>"
      ],
      "text/plain": [
       "                city  brand       km  year    fuel              model   type  \\\n",
       "0  tangerang selatan  lexus  26418.0  2012  bensin      lexus gs 200t  sedan   \n",
       "1  tangerang selatan  lexus  20950.0  2012  bensin  lexus gs 2015 250  sedan   \n",
       "2  tangerang selatan  lexus  31087.0  2012  bensin  lexus gs 2015 350  sedan   \n",
       "3  tangerang selatan  lexus  55992.0  2008  bensin       lexus ls 500  sedan   \n",
       "4  tangerang selatan  lexus  63217.0  2009  bensin       lexus ls 460  sedan   \n",
       "\n",
       "         price  count  delta_year  \n",
       "0  539000000.0      1           7  \n",
       "1  475000000.0      1           7  \n",
       "2  588000000.0      1           7  \n",
       "3  325000000.0      1          11  \n",
       "4  535000000.0      1          10  "
      ]
     },
     "execution_count": 15,
     "metadata": {},
     "output_type": "execute_result"
    }
   ],
   "source": [
    "# df['delta_year'] = 2019 - df['year']\n",
    "base_year = 2019\n",
    "df[\"delta_year\"] = df[\"year\"].apply(lambda x: base_year - x)\n",
    "df[\"model\"] = df[\"model\"].apply(lambda x: x.lower())\n",
    "df.head()"
   ]
  },
  {
   "cell_type": "markdown",
   "metadata": {},
   "source": [
    "## Data Exploration "
   ]
  },
  {
   "cell_type": "code",
   "execution_count": 16,
   "metadata": {},
   "outputs": [],
   "source": [
    "brand = df.groupby('brand').agg({'count': 'sum'}).reset_index()"
   ]
  },
  {
   "cell_type": "code",
   "execution_count": 17,
   "metadata": {},
   "outputs": [
    {
     "data": {
      "text/html": [
       "<div>\n",
       "<style scoped>\n",
       "    .dataframe tbody tr th:only-of-type {\n",
       "        vertical-align: middle;\n",
       "    }\n",
       "\n",
       "    .dataframe tbody tr th {\n",
       "        vertical-align: top;\n",
       "    }\n",
       "\n",
       "    .dataframe thead th {\n",
       "        text-align: right;\n",
       "    }\n",
       "</style>\n",
       "<table border=\"1\" class=\"dataframe\">\n",
       "  <thead>\n",
       "    <tr style=\"text-align: right;\">\n",
       "      <th></th>\n",
       "      <th>brand</th>\n",
       "      <th>count</th>\n",
       "    </tr>\n",
       "  </thead>\n",
       "  <tbody>\n",
       "    <tr>\n",
       "      <th>0</th>\n",
       "      <td>aston-martin</td>\n",
       "      <td>1</td>\n",
       "    </tr>\n",
       "    <tr>\n",
       "      <th>1</th>\n",
       "      <td>audi</td>\n",
       "      <td>20</td>\n",
       "    </tr>\n",
       "    <tr>\n",
       "      <th>2</th>\n",
       "      <td>bmw</td>\n",
       "      <td>155</td>\n",
       "    </tr>\n",
       "    <tr>\n",
       "      <th>3</th>\n",
       "      <td>chevrolet</td>\n",
       "      <td>189</td>\n",
       "    </tr>\n",
       "    <tr>\n",
       "      <th>4</th>\n",
       "      <td>daihatsu</td>\n",
       "      <td>1488</td>\n",
       "    </tr>\n",
       "  </tbody>\n",
       "</table>\n",
       "</div>"
      ],
      "text/plain": [
       "          brand  count\n",
       "0  aston-martin      1\n",
       "1          audi     20\n",
       "2           bmw    155\n",
       "3     chevrolet    189\n",
       "4      daihatsu   1488"
      ]
     },
     "execution_count": 17,
     "metadata": {},
     "output_type": "execute_result"
    }
   ],
   "source": [
    "brand.head()"
   ]
  },
  {
   "cell_type": "code",
   "execution_count": 18,
   "metadata": {
    "scrolled": true
   },
   "outputs": [
    {
     "name": "stdout",
     "output_type": "stream",
     "text": [
      "Number of brands : 36\n"
     ]
    },
    {
     "data": {
      "text/plain": [
       "([0,\n",
       "  1,\n",
       "  2,\n",
       "  3,\n",
       "  4,\n",
       "  5,\n",
       "  6,\n",
       "  7,\n",
       "  8,\n",
       "  9,\n",
       "  10,\n",
       "  11,\n",
       "  12,\n",
       "  13,\n",
       "  14,\n",
       "  15,\n",
       "  16,\n",
       "  17,\n",
       "  18,\n",
       "  19,\n",
       "  20,\n",
       "  21,\n",
       "  22,\n",
       "  23,\n",
       "  24,\n",
       "  25,\n",
       "  26,\n",
       "  27,\n",
       "  28,\n",
       "  29,\n",
       "  30,\n",
       "  31,\n",
       "  32,\n",
       "  33,\n",
       "  34,\n",
       "  35],\n",
       " <a list of 36 Text xticklabel objects>)"
      ]
     },
     "execution_count": 18,
     "metadata": {},
     "output_type": "execute_result"
    },
    {
     "data": {
      "image/png": "[encoded data removed]",
      "text/plain": [
       "<Figure size 432x288 with 1 Axes>"
      ]
     },
     "metadata": {
      "needs_background": "light"
     },
     "output_type": "display_data"
    }
   ],
   "source": [
    "print('Number of brands : %d' %(len(brand)))\n",
    "plt.bar(brand['brand'], brand['count'])\n",
    "plt.title('counts of brands')\n",
    "plt.xticks(rotation=90)"
   ]
  },
  {
   "cell_type": "code",
   "execution_count": 19,
   "metadata": {},
   "outputs": [],
   "source": [
    "year = df.groupby('year').agg({'count': 'sum'}).reset_index()"
   ]
  },
  {
   "cell_type": "code",
   "execution_count": 20,
   "metadata": {},
   "outputs": [
    {
     "name": "stdout",
     "output_type": "stream",
     "text": [
      "Number of years : 35\n"
     ]
    },
    {
     "data": {
      "text/plain": [
       "(array([1970., 1980., 1990., 2000., 2010., 2020., 2030.]),\n",
       " <a list of 7 Text xticklabel objects>)"
      ]
     },
     "execution_count": 20,
     "metadata": {},
     "output_type": "execute_result"
    },
    {
     "data": {
      "image/png": "[encoded data removed]",
      "text/plain": [
       "<Figure size 432x288 with 1 Axes>"
      ]
     },
     "metadata": {
      "needs_background": "light"
     },
     "output_type": "display_data"
    }
   ],
   "source": [
    "print('Number of years : %d' %(len(year)))\n",
    "plt.bar(year['year'], year['count'])\n",
    "plt.title('Years of cars sale')\n",
    "plt.xticks(rotation=90)"
   ]
  },
  {
   "cell_type": "code",
   "execution_count": 21,
   "metadata": {},
   "outputs": [],
   "source": [
    "fuel = df.groupby('fuel').agg({'count': 'sum'}).reset_index()"
   ]
  },
  {
   "cell_type": "code",
   "execution_count": 22,
   "metadata": {},
   "outputs": [
    {
     "name": "stdout",
     "output_type": "stream",
     "text": [
      "Number of fuel types : 7\n"
     ]
    },
    {
     "data": {
      "text/plain": [
       "([0, 1, 2, 3, 4, 5, 6], <a list of 7 Text xticklabel objects>)"
      ]
     },
     "execution_count": 22,
     "metadata": {},
     "output_type": "execute_result"
    },
    {
     "data": {
      "image/png": "[encoded data removed]",
      "text/plain": [
       "<Figure size 432x288 with 1 Axes>"
      ]
     },
     "metadata": {
      "needs_background": "light"
     },
     "output_type": "display_data"
    }
   ],
   "source": [
    "print('Number of fuel types : %d' %(len(fuel)))\n",
    "plt.bar(fuel['fuel'], fuel['count'])\n",
    "plt.title('fuel types')\n",
    "plt.xticks(rotation=90)"
   ]
  },
  {
   "cell_type": "code",
   "execution_count": 23,
   "metadata": {},
   "outputs": [],
   "source": [
    "car_type = df.groupby('type').agg({'count': 'sum'}).reset_index()"
   ]
  },
  {
   "cell_type": "code",
   "execution_count": 24,
   "metadata": {},
   "outputs": [
    {
     "name": "stdout",
     "output_type": "stream",
     "text": [
      "Number of car types : 14\n"
     ]
    },
    {
     "data": {
      "text/plain": [
       "([0, 1, 2, 3, 4, 5, 6, 7, 8, 9, 10, 11, 12, 13],\n",
       " <a list of 14 Text xticklabel objects>)"
      ]
     },
     "execution_count": 24,
     "metadata": {},
     "output_type": "execute_result"
    },
    {
     "data": {
      "image/png": "[encoded data removed]",
      "text/plain": [
       "<Figure size 432x288 with 1 Axes>"
      ]
     },
     "metadata": {
      "needs_background": "light"
     },
     "output_type": "display_data"
    }
   ],
   "source": [
    "print('Number of car types : %d' %(len(car_type)))\n",
    "plt.bar(car_type['type'], car_type['count'])\n",
    "plt.title('car types')\n",
    "plt.xticks(rotation=90)"
   ]
  },
  {
   "cell_type": "code",
   "execution_count": 25,
   "metadata": {},
   "outputs": [],
   "source": [
    "model = df.groupby('model').agg({'count': 'sum'}).reset_index()"
   ]
  },
  {
   "cell_type": "code",
   "execution_count": 26,
   "metadata": {},
   "outputs": [],
   "source": [
    "model = model.sort_values('count').reset_index(drop=True)"
   ]
  },
  {
   "cell_type": "code",
   "execution_count": 27,
   "metadata": {},
   "outputs": [
    {
     "name": "stdout",
     "output_type": "stream",
     "text": [
      "Number of model : 1121\n"
     ]
    },
    {
     "data": {
      "text/plain": [
       "Text(0.5, 1.0, 'model types')"
      ]
     },
     "execution_count": 27,
     "metadata": {},
     "output_type": "execute_result"
    },
    {
     "data": {
      "image/png": "[encoded data removed]",
      "text/plain": [
       "<Figure size 432x288 with 1 Axes>"
      ]
     },
     "metadata": {
      "needs_background": "light"
     },
     "output_type": "display_data"
    }
   ],
   "source": [
    "print('Number of model : %d' %(len(model)))\n",
    "plt.bar(model['model'], model['count'])\n",
    "plt.title('model types')"
   ]
  },
  {
   "cell_type": "code",
   "execution_count": 27,
   "metadata": {},
   "outputs": [
    {
     "data": {
      "text/html": [
       "<div>\n",
       "<style scoped>\n",
       "    .dataframe tbody tr th:only-of-type {\n",
       "        vertical-align: middle;\n",
       "    }\n",
       "\n",
       "    .dataframe tbody tr th {\n",
       "        vertical-align: top;\n",
       "    }\n",
       "\n",
       "    .dataframe thead th {\n",
       "        text-align: right;\n",
       "    }\n",
       "</style>\n",
       "<table border=\"1\" class=\"dataframe\">\n",
       "  <thead>\n",
       "    <tr style=\"text-align: right;\">\n",
       "      <th></th>\n",
       "      <th>model</th>\n",
       "      <th>count</th>\n",
       "    </tr>\n",
       "  </thead>\n",
       "  <tbody>\n",
       "    <tr>\n",
       "      <th>1111</th>\n",
       "      <td>daihatsu terios (2006-2017) tx mt</td>\n",
       "      <td>129</td>\n",
       "    </tr>\n",
       "    <tr>\n",
       "      <th>1112</th>\n",
       "      <td>nissan grand livina 1.5 xv cvt</td>\n",
       "      <td>133</td>\n",
       "    </tr>\n",
       "    <tr>\n",
       "      <th>1113</th>\n",
       "      <td>honda hrv (2015-2018) 1.5l e cvt</td>\n",
       "      <td>135</td>\n",
       "    </tr>\n",
       "    <tr>\n",
       "      <th>1114</th>\n",
       "      <td>daihatsu xenia r mt 1.3 std</td>\n",
       "      <td>144</td>\n",
       "    </tr>\n",
       "    <tr>\n",
       "      <th>1115</th>\n",
       "      <td>honda jazz (2008-2014) 1.5l rs at</td>\n",
       "      <td>176</td>\n",
       "    </tr>\n",
       "    <tr>\n",
       "      <th>1116</th>\n",
       "      <td>toyota kijang innova g m/t gasoline</td>\n",
       "      <td>180</td>\n",
       "    </tr>\n",
       "    <tr>\n",
       "      <th>1117</th>\n",
       "      <td>toyota avanza (2011-2015) 1.3 g mt</td>\n",
       "      <td>210</td>\n",
       "    </tr>\n",
       "    <tr>\n",
       "      <th>1118</th>\n",
       "      <td>honda crv (2012-2017) 2.4 i-vtec at</td>\n",
       "      <td>219</td>\n",
       "    </tr>\n",
       "    <tr>\n",
       "      <th>1119</th>\n",
       "      <td>honda freed (2009-2014) psd</td>\n",
       "      <td>300</td>\n",
       "    </tr>\n",
       "    <tr>\n",
       "      <th>1120</th>\n",
       "      <td>toyota avanza 1.3 g m/t</td>\n",
       "      <td>307</td>\n",
       "    </tr>\n",
       "  </tbody>\n",
       "</table>\n",
       "</div>"
      ],
      "text/plain": [
       "                                    model  count\n",
       "1111    daihatsu terios (2006-2017) tx mt    129\n",
       "1112       nissan grand livina 1.5 xv cvt    133\n",
       "1113     honda hrv (2015-2018) 1.5l e cvt    135\n",
       "1114          daihatsu xenia r mt 1.3 std    144\n",
       "1115    honda jazz (2008-2014) 1.5l rs at    176\n",
       "1116  toyota kijang innova g m/t gasoline    180\n",
       "1117   toyota avanza (2011-2015) 1.3 g mt    210\n",
       "1118  honda crv (2012-2017) 2.4 i-vtec at    219\n",
       "1119          honda freed (2009-2014) psd    300\n",
       "1120              toyota avanza 1.3 g m/t    307"
      ]
     },
     "execution_count": 27,
     "metadata": {},
     "output_type": "execute_result"
    }
   ],
   "source": [
    "model.tail(10)"
   ]
  },
  {
   "cell_type": "code",
   "execution_count": 28,
   "metadata": {},
   "outputs": [],
   "source": [
    "price = df.groupby('price').agg({'count': 'sum'}).reset_index()"
   ]
  },
  {
   "cell_type": "code",
   "execution_count": 29,
   "metadata": {},
   "outputs": [],
   "source": [
    "price = price.sort_values('price').reset_index(drop=True)"
   ]
  },
  {
   "cell_type": "code",
   "execution_count": 30,
   "metadata": {},
   "outputs": [
    {
     "data": {
      "text/html": [
       "<div>\n",
       "<style scoped>\n",
       "    .dataframe tbody tr th:only-of-type {\n",
       "        vertical-align: middle;\n",
       "    }\n",
       "\n",
       "    .dataframe tbody tr th {\n",
       "        vertical-align: top;\n",
       "    }\n",
       "\n",
       "    .dataframe thead th {\n",
       "        text-align: right;\n",
       "    }\n",
       "</style>\n",
       "<table border=\"1\" class=\"dataframe\">\n",
       "  <thead>\n",
       "    <tr style=\"text-align: right;\">\n",
       "      <th></th>\n",
       "      <th>price</th>\n",
       "      <th>count</th>\n",
       "    </tr>\n",
       "  </thead>\n",
       "  <tbody>\n",
       "    <tr>\n",
       "      <th>0</th>\n",
       "      <td>1.0</td>\n",
       "      <td>1</td>\n",
       "    </tr>\n",
       "    <tr>\n",
       "      <th>1</th>\n",
       "      <td>2.0</td>\n",
       "      <td>2</td>\n",
       "    </tr>\n",
       "    <tr>\n",
       "      <th>2</th>\n",
       "      <td>77.0</td>\n",
       "      <td>1</td>\n",
       "    </tr>\n",
       "    <tr>\n",
       "      <th>3</th>\n",
       "      <td>92.0</td>\n",
       "      <td>1</td>\n",
       "    </tr>\n",
       "    <tr>\n",
       "      <th>4</th>\n",
       "      <td>100.0</td>\n",
       "      <td>1</td>\n",
       "    </tr>\n",
       "  </tbody>\n",
       "</table>\n",
       "</div>"
      ],
      "text/plain": [
       "   price  count\n",
       "0    1.0      1\n",
       "1    2.0      2\n",
       "2   77.0      1\n",
       "3   92.0      1\n",
       "4  100.0      1"
      ]
     },
     "execution_count": 30,
     "metadata": {},
     "output_type": "execute_result"
    }
   ],
   "source": [
    "price.head()"
   ]
  },
  {
   "cell_type": "code",
   "execution_count": 31,
   "metadata": {},
   "outputs": [
    {
     "data": {
      "text/html": [
       "<div>\n",
       "<style scoped>\n",
       "    .dataframe tbody tr th:only-of-type {\n",
       "        vertical-align: middle;\n",
       "    }\n",
       "\n",
       "    .dataframe tbody tr th {\n",
       "        vertical-align: top;\n",
       "    }\n",
       "\n",
       "    .dataframe thead th {\n",
       "        text-align: right;\n",
       "    }\n",
       "</style>\n",
       "<table border=\"1\" class=\"dataframe\">\n",
       "  <thead>\n",
       "    <tr style=\"text-align: right;\">\n",
       "      <th></th>\n",
       "      <th>price</th>\n",
       "      <th>count</th>\n",
       "    </tr>\n",
       "  </thead>\n",
       "  <tbody>\n",
       "    <tr>\n",
       "      <th>920</th>\n",
       "      <td>4.500000e+09</td>\n",
       "      <td>1</td>\n",
       "    </tr>\n",
       "    <tr>\n",
       "      <th>921</th>\n",
       "      <td>8.765434e+09</td>\n",
       "      <td>1</td>\n",
       "    </tr>\n",
       "    <tr>\n",
       "      <th>922</th>\n",
       "      <td>5.565657e+10</td>\n",
       "      <td>1</td>\n",
       "    </tr>\n",
       "    <tr>\n",
       "      <th>923</th>\n",
       "      <td>7.876565e+10</td>\n",
       "      <td>1</td>\n",
       "    </tr>\n",
       "    <tr>\n",
       "      <th>924</th>\n",
       "      <td>9.879880e+10</td>\n",
       "      <td>1</td>\n",
       "    </tr>\n",
       "  </tbody>\n",
       "</table>\n",
       "</div>"
      ],
      "text/plain": [
       "            price  count\n",
       "920  4.500000e+09      1\n",
       "921  8.765434e+09      1\n",
       "922  5.565657e+10      1\n",
       "923  7.876565e+10      1\n",
       "924  9.879880e+10      1"
      ]
     },
     "execution_count": 31,
     "metadata": {},
     "output_type": "execute_result"
    }
   ],
   "source": [
    "price.tail(5)"
   ]
  },
  {
   "cell_type": "code",
   "execution_count": 32,
   "metadata": {},
   "outputs": [
    {
     "data": {
      "text/html": [
       "<div>\n",
       "<style scoped>\n",
       "    .dataframe tbody tr th:only-of-type {\n",
       "        vertical-align: middle;\n",
       "    }\n",
       "\n",
       "    .dataframe tbody tr th {\n",
       "        vertical-align: top;\n",
       "    }\n",
       "\n",
       "    .dataframe thead th {\n",
       "        text-align: right;\n",
       "    }\n",
       "</style>\n",
       "<table border=\"1\" class=\"dataframe\">\n",
       "  <thead>\n",
       "    <tr style=\"text-align: right;\">\n",
       "      <th></th>\n",
       "      <th>km</th>\n",
       "      <th>year</th>\n",
       "      <th>price</th>\n",
       "      <th>count</th>\n",
       "      <th>delta_year</th>\n",
       "    </tr>\n",
       "  </thead>\n",
       "  <tbody>\n",
       "    <tr>\n",
       "      <th>count</th>\n",
       "      <td>1.494100e+04</td>\n",
       "      <td>14941.000000</td>\n",
       "      <td>1.494100e+04</td>\n",
       "      <td>14941.0</td>\n",
       "      <td>14941.000000</td>\n",
       "    </tr>\n",
       "    <tr>\n",
       "      <th>mean</th>\n",
       "      <td>7.507183e+04</td>\n",
       "      <td>2012.560471</td>\n",
       "      <td>1.966210e+08</td>\n",
       "      <td>1.0</td>\n",
       "      <td>6.439529</td>\n",
       "    </tr>\n",
       "    <tr>\n",
       "      <th>std</th>\n",
       "      <td>2.021223e+05</td>\n",
       "      <td>3.490996</td>\n",
       "      <td>1.139343e+09</td>\n",
       "      <td>0.0</td>\n",
       "      <td>3.490996</td>\n",
       "    </tr>\n",
       "    <tr>\n",
       "      <th>min</th>\n",
       "      <td>1.000000e+00</td>\n",
       "      <td>1976.000000</td>\n",
       "      <td>1.000000e+00</td>\n",
       "      <td>1.0</td>\n",
       "      <td>0.000000</td>\n",
       "    </tr>\n",
       "    <tr>\n",
       "      <th>25%</th>\n",
       "      <td>3.324500e+04</td>\n",
       "      <td>2011.000000</td>\n",
       "      <td>1.100000e+08</td>\n",
       "      <td>1.0</td>\n",
       "      <td>4.000000</td>\n",
       "    </tr>\n",
       "    <tr>\n",
       "      <th>50%</th>\n",
       "      <td>6.000000e+04</td>\n",
       "      <td>2013.000000</td>\n",
       "      <td>1.450000e+08</td>\n",
       "      <td>1.0</td>\n",
       "      <td>6.000000</td>\n",
       "    </tr>\n",
       "    <tr>\n",
       "      <th>75%</th>\n",
       "      <td>9.024500e+04</td>\n",
       "      <td>2015.000000</td>\n",
       "      <td>1.980000e+08</td>\n",
       "      <td>1.0</td>\n",
       "      <td>8.000000</td>\n",
       "    </tr>\n",
       "    <tr>\n",
       "      <th>max</th>\n",
       "      <td>9.999999e+06</td>\n",
       "      <td>2019.000000</td>\n",
       "      <td>9.879880e+10</td>\n",
       "      <td>1.0</td>\n",
       "      <td>43.000000</td>\n",
       "    </tr>\n",
       "  </tbody>\n",
       "</table>\n",
       "</div>"
      ],
      "text/plain": [
       "                 km          year         price    count    delta_year\n",
       "count  1.494100e+04  14941.000000  1.494100e+04  14941.0  14941.000000\n",
       "mean   7.507183e+04   2012.560471  1.966210e+08      1.0      6.439529\n",
       "std    2.021223e+05      3.490996  1.139343e+09      0.0      3.490996\n",
       "min    1.000000e+00   1976.000000  1.000000e+00      1.0      0.000000\n",
       "25%    3.324500e+04   2011.000000  1.100000e+08      1.0      4.000000\n",
       "50%    6.000000e+04   2013.000000  1.450000e+08      1.0      6.000000\n",
       "75%    9.024500e+04   2015.000000  1.980000e+08      1.0      8.000000\n",
       "max    9.999999e+06   2019.000000  9.879880e+10      1.0     43.000000"
      ]
     },
     "execution_count": 32,
     "metadata": {},
     "output_type": "execute_result"
    }
   ],
   "source": [
    "df.describe()"
   ]
  },
  {
   "cell_type": "code",
   "execution_count": 33,
   "metadata": {},
   "outputs": [],
   "source": [
    "data = df.copy()"
   ]
  },
  {
   "cell_type": "markdown",
   "metadata": {},
   "source": [
    "## Removing < 1%tile and >99% data \n",
    "Since a lot of pricing given is incorrect"
   ]
  },
  {
   "cell_type": "code",
   "execution_count": 82,
   "metadata": {},
   "outputs": [],
   "source": [
    "lower = 0.05\n",
    "upper = 0.95"
   ]
  },
  {
   "cell_type": "code",
   "execution_count": 83,
   "metadata": {
    "scrolled": true
   },
   "outputs": [
    {
     "name": "stdout",
     "output_type": "stream",
     "text": [
      "Lenfth of data: 14643\n"
     ]
    }
   ],
   "source": [
    "print('Lenfth of data: %d' %(len(data)))"
   ]
  },
  {
   "cell_type": "code",
   "execution_count": 84,
   "metadata": {},
   "outputs": [],
   "source": [
    "data = data[data.price > data.price.quantile(lower)]"
   ]
  },
  {
   "cell_type": "code",
   "execution_count": 85,
   "metadata": {},
   "outputs": [
    {
     "name": "stdout",
     "output_type": "stream",
     "text": [
      "Lenfth of data: 13806\n"
     ]
    }
   ],
   "source": [
    "print('Lenfth of data: %d' %(len(data)))"
   ]
  },
  {
   "cell_type": "code",
   "execution_count": 86,
   "metadata": {},
   "outputs": [],
   "source": [
    "data = data[data.price < data.price.quantile(upper)]"
   ]
  },
  {
   "cell_type": "code",
   "execution_count": 87,
   "metadata": {},
   "outputs": [
    {
     "name": "stdout",
     "output_type": "stream",
     "text": [
      "Lenfth of data: 13093\n"
     ]
    }
   ],
   "source": [
    "print('Lenfth of data: %d' %(len(data)))"
   ]
  },
  {
   "cell_type": "code",
   "execution_count": 88,
   "metadata": {},
   "outputs": [
    {
     "data": {
      "text/html": [
       "<div>\n",
       "<style scoped>\n",
       "    .dataframe tbody tr th:only-of-type {\n",
       "        vertical-align: middle;\n",
       "    }\n",
       "\n",
       "    .dataframe tbody tr th {\n",
       "        vertical-align: top;\n",
       "    }\n",
       "\n",
       "    .dataframe thead th {\n",
       "        text-align: right;\n",
       "    }\n",
       "</style>\n",
       "<table border=\"1\" class=\"dataframe\">\n",
       "  <thead>\n",
       "    <tr style=\"text-align: right;\">\n",
       "      <th></th>\n",
       "      <th>km</th>\n",
       "      <th>year</th>\n",
       "      <th>price</th>\n",
       "      <th>count</th>\n",
       "      <th>delta_year</th>\n",
       "    </tr>\n",
       "  </thead>\n",
       "  <tbody>\n",
       "    <tr>\n",
       "      <th>count</th>\n",
       "      <td>1.309300e+04</td>\n",
       "      <td>13093.000000</td>\n",
       "      <td>1.309300e+04</td>\n",
       "      <td>13093.0</td>\n",
       "      <td>13093.000000</td>\n",
       "    </tr>\n",
       "    <tr>\n",
       "      <th>mean</th>\n",
       "      <td>7.052977e+04</td>\n",
       "      <td>2012.707095</td>\n",
       "      <td>1.622267e+08</td>\n",
       "      <td>1.0</td>\n",
       "      <td>6.292905</td>\n",
       "    </tr>\n",
       "    <tr>\n",
       "      <th>std</th>\n",
       "      <td>1.044082e+05</td>\n",
       "      <td>3.142284</td>\n",
       "      <td>6.390266e+07</td>\n",
       "      <td>0.0</td>\n",
       "      <td>3.142284</td>\n",
       "    </tr>\n",
       "    <tr>\n",
       "      <th>min</th>\n",
       "      <td>1.000000e+00</td>\n",
       "      <td>1976.000000</td>\n",
       "      <td>8.100000e+07</td>\n",
       "      <td>1.0</td>\n",
       "      <td>0.000000</td>\n",
       "    </tr>\n",
       "    <tr>\n",
       "      <th>25%</th>\n",
       "      <td>3.512000e+04</td>\n",
       "      <td>2011.000000</td>\n",
       "      <td>1.150000e+08</td>\n",
       "      <td>1.0</td>\n",
       "      <td>4.000000</td>\n",
       "    </tr>\n",
       "    <tr>\n",
       "      <th>50%</th>\n",
       "      <td>6.100000e+04</td>\n",
       "      <td>2013.000000</td>\n",
       "      <td>1.450000e+08</td>\n",
       "      <td>1.0</td>\n",
       "      <td>6.000000</td>\n",
       "    </tr>\n",
       "    <tr>\n",
       "      <th>75%</th>\n",
       "      <td>8.997600e+04</td>\n",
       "      <td>2015.000000</td>\n",
       "      <td>1.890000e+08</td>\n",
       "      <td>1.0</td>\n",
       "      <td>8.000000</td>\n",
       "    </tr>\n",
       "    <tr>\n",
       "      <th>max</th>\n",
       "      <td>8.996486e+06</td>\n",
       "      <td>2019.000000</td>\n",
       "      <td>3.720000e+08</td>\n",
       "      <td>1.0</td>\n",
       "      <td>43.000000</td>\n",
       "    </tr>\n",
       "  </tbody>\n",
       "</table>\n",
       "</div>"
      ],
      "text/plain": [
       "                 km          year         price    count    delta_year\n",
       "count  1.309300e+04  13093.000000  1.309300e+04  13093.0  13093.000000\n",
       "mean   7.052977e+04   2012.707095  1.622267e+08      1.0      6.292905\n",
       "std    1.044082e+05      3.142284  6.390266e+07      0.0      3.142284\n",
       "min    1.000000e+00   1976.000000  8.100000e+07      1.0      0.000000\n",
       "25%    3.512000e+04   2011.000000  1.150000e+08      1.0      4.000000\n",
       "50%    6.100000e+04   2013.000000  1.450000e+08      1.0      6.000000\n",
       "75%    8.997600e+04   2015.000000  1.890000e+08      1.0      8.000000\n",
       "max    8.996486e+06   2019.000000  3.720000e+08      1.0     43.000000"
      ]
     },
     "execution_count": 88,
     "metadata": {},
     "output_type": "execute_result"
    }
   ],
   "source": [
    "data.describe()"
   ]
  },
  {
   "cell_type": "code",
   "execution_count": 89,
   "metadata": {},
   "outputs": [
    {
     "data": {
      "text/html": [
       "<div>\n",
       "<style scoped>\n",
       "    .dataframe tbody tr th:only-of-type {\n",
       "        vertical-align: middle;\n",
       "    }\n",
       "\n",
       "    .dataframe tbody tr th {\n",
       "        vertical-align: top;\n",
       "    }\n",
       "\n",
       "    .dataframe thead th {\n",
       "        text-align: right;\n",
       "    }\n",
       "</style>\n",
       "<table border=\"1\" class=\"dataframe\">\n",
       "  <thead>\n",
       "    <tr style=\"text-align: right;\">\n",
       "      <th></th>\n",
       "      <th>city</th>\n",
       "      <th>brand</th>\n",
       "      <th>km</th>\n",
       "      <th>year</th>\n",
       "      <th>fuel</th>\n",
       "      <th>model</th>\n",
       "      <th>type</th>\n",
       "      <th>price</th>\n",
       "      <th>count</th>\n",
       "      <th>delta_year</th>\n",
       "    </tr>\n",
       "  </thead>\n",
       "  <tbody>\n",
       "    <tr>\n",
       "      <th>3</th>\n",
       "      <td>tangerang selatan</td>\n",
       "      <td>lexus</td>\n",
       "      <td>55992.0</td>\n",
       "      <td>2008</td>\n",
       "      <td>bensin</td>\n",
       "      <td>lexus ls 500</td>\n",
       "      <td>sedan</td>\n",
       "      <td>325000000.0</td>\n",
       "      <td>1</td>\n",
       "      <td>11</td>\n",
       "    </tr>\n",
       "    <tr>\n",
       "      <th>5</th>\n",
       "      <td>jakarta selatan</td>\n",
       "      <td>lexus</td>\n",
       "      <td>111747.0</td>\n",
       "      <td>2001</td>\n",
       "      <td>bensin</td>\n",
       "      <td>lexus lx 570</td>\n",
       "      <td>suv</td>\n",
       "      <td>335000000.0</td>\n",
       "      <td>1</td>\n",
       "      <td>18</td>\n",
       "    </tr>\n",
       "    <tr>\n",
       "      <th>8</th>\n",
       "      <td>jakarta pusat</td>\n",
       "      <td>lexus</td>\n",
       "      <td>3632.0</td>\n",
       "      <td>2001</td>\n",
       "      <td>bensin</td>\n",
       "      <td>lexus ls 460</td>\n",
       "      <td>sedan</td>\n",
       "      <td>180000000.0</td>\n",
       "      <td>1</td>\n",
       "      <td>18</td>\n",
       "    </tr>\n",
       "    <tr>\n",
       "      <th>22</th>\n",
       "      <td>jakarta utara</td>\n",
       "      <td>lexus</td>\n",
       "      <td>131472.0</td>\n",
       "      <td>2000</td>\n",
       "      <td>bensin</td>\n",
       "      <td>lexus ls 430 (2002-2006) 4300atfacelift</td>\n",
       "      <td>sedan</td>\n",
       "      <td>285000000.0</td>\n",
       "      <td>1</td>\n",
       "      <td>19</td>\n",
       "    </tr>\n",
       "    <tr>\n",
       "      <th>25</th>\n",
       "      <td>jakarta barat</td>\n",
       "      <td>kia</td>\n",
       "      <td>37000.0</td>\n",
       "      <td>2013</td>\n",
       "      <td>bensin</td>\n",
       "      <td>kia picanto mt</td>\n",
       "      <td>hatchback</td>\n",
       "      <td>85000000.0</td>\n",
       "      <td>1</td>\n",
       "      <td>6</td>\n",
       "    </tr>\n",
       "  </tbody>\n",
       "</table>\n",
       "</div>"
      ],
      "text/plain": [
       "                 city  brand        km  year    fuel  \\\n",
       "3   tangerang selatan  lexus   55992.0  2008  bensin   \n",
       "5     jakarta selatan  lexus  111747.0  2001  bensin   \n",
       "8       jakarta pusat  lexus    3632.0  2001  bensin   \n",
       "22      jakarta utara  lexus  131472.0  2000  bensin   \n",
       "25      jakarta barat    kia   37000.0  2013  bensin   \n",
       "\n",
       "                                      model       type        price  count  \\\n",
       "3                              lexus ls 500      sedan  325000000.0      1   \n",
       "5                              lexus lx 570        suv  335000000.0      1   \n",
       "8                              lexus ls 460      sedan  180000000.0      1   \n",
       "22  lexus ls 430 (2002-2006) 4300atfacelift      sedan  285000000.0      1   \n",
       "25                           kia picanto mt  hatchback   85000000.0      1   \n",
       "\n",
       "    delta_year  \n",
       "3           11  \n",
       "5           18  \n",
       "8           18  \n",
       "22          19  \n",
       "25           6  "
      ]
     },
     "execution_count": 89,
     "metadata": {},
     "output_type": "execute_result"
    }
   ],
   "source": [
    "data.head()"
   ]
  },
  {
   "cell_type": "markdown",
   "metadata": {},
   "source": [
    "## Exploring Particular Model\n",
    "\n",
    "For starting taking toyota avanza 1.3 g m/t, its count is 282\n"
   ]
  },
  {
   "cell_type": "code",
   "execution_count": 90,
   "metadata": {},
   "outputs": [],
   "source": [
    "models = list(model.model)"
   ]
  },
  {
   "cell_type": "code",
   "execution_count": 91,
   "metadata": {},
   "outputs": [],
   "source": [
    "# for i in range(len(models)):\n",
    "    "
   ]
  },
  {
   "cell_type": "code",
   "execution_count": 92,
   "metadata": {},
   "outputs": [],
   "source": [
    "avanza = data[data.model == 'toyota avanza 1.3 g m/t'].reset_index(drop=True)"
   ]
  },
  {
   "cell_type": "code",
   "execution_count": 93,
   "metadata": {
    "scrolled": true
   },
   "outputs": [
    {
     "data": {
      "text/html": [
       "<div>\n",
       "<style scoped>\n",
       "    .dataframe tbody tr th:only-of-type {\n",
       "        vertical-align: middle;\n",
       "    }\n",
       "\n",
       "    .dataframe tbody tr th {\n",
       "        vertical-align: top;\n",
       "    }\n",
       "\n",
       "    .dataframe thead th {\n",
       "        text-align: right;\n",
       "    }\n",
       "</style>\n",
       "<table border=\"1\" class=\"dataframe\">\n",
       "  <thead>\n",
       "    <tr style=\"text-align: right;\">\n",
       "      <th></th>\n",
       "      <th>city</th>\n",
       "      <th>brand</th>\n",
       "      <th>km</th>\n",
       "      <th>year</th>\n",
       "      <th>fuel</th>\n",
       "      <th>model</th>\n",
       "      <th>type</th>\n",
       "      <th>price</th>\n",
       "      <th>count</th>\n",
       "      <th>delta_year</th>\n",
       "    </tr>\n",
       "  </thead>\n",
       "  <tbody>\n",
       "    <tr>\n",
       "      <th>0</th>\n",
       "      <td>jakarta barat</td>\n",
       "      <td>toyota</td>\n",
       "      <td>20951.0</td>\n",
       "      <td>2013</td>\n",
       "      <td>bensin</td>\n",
       "      <td>toyota avanza 1.3 g m/t</td>\n",
       "      <td>mpv</td>\n",
       "      <td>125000000.0</td>\n",
       "      <td>1</td>\n",
       "      <td>6</td>\n",
       "    </tr>\n",
       "    <tr>\n",
       "      <th>1</th>\n",
       "      <td>jakarta barat</td>\n",
       "      <td>toyota</td>\n",
       "      <td>26216.0</td>\n",
       "      <td>2013</td>\n",
       "      <td>bensin</td>\n",
       "      <td>toyota avanza 1.3 g m/t</td>\n",
       "      <td>mpv</td>\n",
       "      <td>125000000.0</td>\n",
       "      <td>1</td>\n",
       "      <td>6</td>\n",
       "    </tr>\n",
       "    <tr>\n",
       "      <th>2</th>\n",
       "      <td>jakarta barat</td>\n",
       "      <td>toyota</td>\n",
       "      <td>17673.0</td>\n",
       "      <td>2016</td>\n",
       "      <td>bensin</td>\n",
       "      <td>toyota avanza 1.3 g m/t</td>\n",
       "      <td>mpv</td>\n",
       "      <td>155000000.0</td>\n",
       "      <td>1</td>\n",
       "      <td>3</td>\n",
       "    </tr>\n",
       "    <tr>\n",
       "      <th>3</th>\n",
       "      <td>jakarta barat</td>\n",
       "      <td>toyota</td>\n",
       "      <td>23780.0</td>\n",
       "      <td>2016</td>\n",
       "      <td>bensin</td>\n",
       "      <td>toyota avanza 1.3 g m/t</td>\n",
       "      <td>mpv</td>\n",
       "      <td>150000000.0</td>\n",
       "      <td>1</td>\n",
       "      <td>3</td>\n",
       "    </tr>\n",
       "    <tr>\n",
       "      <th>4</th>\n",
       "      <td>jakarta barat</td>\n",
       "      <td>toyota</td>\n",
       "      <td>6371.0</td>\n",
       "      <td>2015</td>\n",
       "      <td>bensin</td>\n",
       "      <td>toyota avanza 1.3 g m/t</td>\n",
       "      <td>mpv</td>\n",
       "      <td>150000000.0</td>\n",
       "      <td>1</td>\n",
       "      <td>4</td>\n",
       "    </tr>\n",
       "  </tbody>\n",
       "</table>\n",
       "</div>"
      ],
      "text/plain": [
       "            city   brand       km  year    fuel                    model type  \\\n",
       "0  jakarta barat  toyota  20951.0  2013  bensin  toyota avanza 1.3 g m/t  mpv   \n",
       "1  jakarta barat  toyota  26216.0  2013  bensin  toyota avanza 1.3 g m/t  mpv   \n",
       "2  jakarta barat  toyota  17673.0  2016  bensin  toyota avanza 1.3 g m/t  mpv   \n",
       "3  jakarta barat  toyota  23780.0  2016  bensin  toyota avanza 1.3 g m/t  mpv   \n",
       "4  jakarta barat  toyota   6371.0  2015  bensin  toyota avanza 1.3 g m/t  mpv   \n",
       "\n",
       "         price  count  delta_year  \n",
       "0  125000000.0      1           6  \n",
       "1  125000000.0      1           6  \n",
       "2  155000000.0      1           3  \n",
       "3  150000000.0      1           3  \n",
       "4  150000000.0      1           4  "
      ]
     },
     "execution_count": 93,
     "metadata": {},
     "output_type": "execute_result"
    }
   ],
   "source": [
    "avanza.head()"
   ]
  },
  {
   "cell_type": "code",
   "execution_count": 94,
   "metadata": {},
   "outputs": [
    {
     "data": {
      "text/html": [
       "<div>\n",
       "<style scoped>\n",
       "    .dataframe tbody tr th:only-of-type {\n",
       "        vertical-align: middle;\n",
       "    }\n",
       "\n",
       "    .dataframe tbody tr th {\n",
       "        vertical-align: top;\n",
       "    }\n",
       "\n",
       "    .dataframe thead th {\n",
       "        text-align: right;\n",
       "    }\n",
       "</style>\n",
       "<table border=\"1\" class=\"dataframe\">\n",
       "  <thead>\n",
       "    <tr style=\"text-align: right;\">\n",
       "      <th></th>\n",
       "      <th>km</th>\n",
       "      <th>year</th>\n",
       "      <th>price</th>\n",
       "      <th>count</th>\n",
       "      <th>delta_year</th>\n",
       "    </tr>\n",
       "  </thead>\n",
       "  <tbody>\n",
       "    <tr>\n",
       "      <th>km</th>\n",
       "      <td>1.000000</td>\n",
       "      <td>-0.429325</td>\n",
       "      <td>-0.409345</td>\n",
       "      <td>NaN</td>\n",
       "      <td>0.429325</td>\n",
       "    </tr>\n",
       "    <tr>\n",
       "      <th>year</th>\n",
       "      <td>-0.429325</td>\n",
       "      <td>1.000000</td>\n",
       "      <td>0.875177</td>\n",
       "      <td>NaN</td>\n",
       "      <td>-1.000000</td>\n",
       "    </tr>\n",
       "    <tr>\n",
       "      <th>price</th>\n",
       "      <td>-0.409345</td>\n",
       "      <td>0.875177</td>\n",
       "      <td>1.000000</td>\n",
       "      <td>NaN</td>\n",
       "      <td>-0.875177</td>\n",
       "    </tr>\n",
       "    <tr>\n",
       "      <th>count</th>\n",
       "      <td>NaN</td>\n",
       "      <td>NaN</td>\n",
       "      <td>NaN</td>\n",
       "      <td>NaN</td>\n",
       "      <td>NaN</td>\n",
       "    </tr>\n",
       "    <tr>\n",
       "      <th>delta_year</th>\n",
       "      <td>0.429325</td>\n",
       "      <td>-1.000000</td>\n",
       "      <td>-0.875177</td>\n",
       "      <td>NaN</td>\n",
       "      <td>1.000000</td>\n",
       "    </tr>\n",
       "  </tbody>\n",
       "</table>\n",
       "</div>"
      ],
      "text/plain": [
       "                  km      year     price  count  delta_year\n",
       "km          1.000000 -0.429325 -0.409345    NaN    0.429325\n",
       "year       -0.429325  1.000000  0.875177    NaN   -1.000000\n",
       "price      -0.409345  0.875177  1.000000    NaN   -0.875177\n",
       "count            NaN       NaN       NaN    NaN         NaN\n",
       "delta_year  0.429325 -1.000000 -0.875177    NaN    1.000000"
      ]
     },
     "execution_count": 94,
     "metadata": {},
     "output_type": "execute_result"
    }
   ],
   "source": [
    "avanza.corr()"
   ]
  },
  {
   "cell_type": "code",
   "execution_count": 95,
   "metadata": {},
   "outputs": [],
   "source": [
    "price_ava = avanza.groupby('delta_year').agg({'price': 'median'})"
   ]
  },
  {
   "cell_type": "code",
   "execution_count": 96,
   "metadata": {},
   "outputs": [
    {
     "data": {
      "text/plain": [
       "[<matplotlib.lines.Line2D at 0x1a20385390>]"
      ]
     },
     "execution_count": 96,
     "metadata": {},
     "output_type": "execute_result"
    },
    {
     "data": {
      "image/png": "[encoded data removed]",
      "text/plain": [
       "<Figure size 432x288 with 1 Axes>"
      ]
     },
     "metadata": {
      "needs_background": "light"
     },
     "output_type": "display_data"
    }
   ],
   "source": [
    "plt.plot(price_ava)"
   ]
  },
  {
   "cell_type": "code",
   "execution_count": 97,
   "metadata": {},
   "outputs": [
    {
     "data": {
      "text/html": [
       "<div>\n",
       "<style scoped>\n",
       "    .dataframe tbody tr th:only-of-type {\n",
       "        vertical-align: middle;\n",
       "    }\n",
       "\n",
       "    .dataframe tbody tr th {\n",
       "        vertical-align: top;\n",
       "    }\n",
       "\n",
       "    .dataframe thead th {\n",
       "        text-align: right;\n",
       "    }\n",
       "</style>\n",
       "<table border=\"1\" class=\"dataframe\">\n",
       "  <thead>\n",
       "    <tr style=\"text-align: right;\">\n",
       "      <th></th>\n",
       "      <th>price</th>\n",
       "    </tr>\n",
       "    <tr>\n",
       "      <th>delta_year</th>\n",
       "      <th></th>\n",
       "    </tr>\n",
       "  </thead>\n",
       "  <tbody>\n",
       "    <tr>\n",
       "      <th>0</th>\n",
       "      <td>220883000.0</td>\n",
       "    </tr>\n",
       "    <tr>\n",
       "      <th>1</th>\n",
       "      <td>172000000.0</td>\n",
       "    </tr>\n",
       "    <tr>\n",
       "      <th>2</th>\n",
       "      <td>166500000.0</td>\n",
       "    </tr>\n",
       "    <tr>\n",
       "      <th>3</th>\n",
       "      <td>160000000.0</td>\n",
       "    </tr>\n",
       "    <tr>\n",
       "      <th>4</th>\n",
       "      <td>150000000.0</td>\n",
       "    </tr>\n",
       "  </tbody>\n",
       "</table>\n",
       "</div>"
      ],
      "text/plain": [
       "                  price\n",
       "delta_year             \n",
       "0           220883000.0\n",
       "1           172000000.0\n",
       "2           166500000.0\n",
       "3           160000000.0\n",
       "4           150000000.0"
      ]
     },
     "execution_count": 97,
     "metadata": {},
     "output_type": "execute_result"
    }
   ],
   "source": [
    "price_ava.head()"
   ]
  },
  {
   "cell_type": "code",
   "execution_count": 98,
   "metadata": {},
   "outputs": [],
   "source": [
    "price_ava['depreciation'] = 0"
   ]
  },
  {
   "cell_type": "code",
   "execution_count": 99,
   "metadata": {},
   "outputs": [],
   "source": [
    "price = list(price_ava.price)"
   ]
  },
  {
   "cell_type": "code",
   "execution_count": 100,
   "metadata": {},
   "outputs": [],
   "source": [
    "depreciation = []\n",
    "for i in range(len(price)):\n",
    "    if i == 0:\n",
    "        base_price = price[i]\n",
    "        depreciation.append(0)\n",
    "    else:\n",
    "        change = (base_price - price[i])*100/base_price\n",
    "        depreciation.append(change)\n",
    "\n",
    "price_ava['depreciation'] = depreciation"
   ]
  },
  {
   "cell_type": "code",
   "execution_count": 101,
   "metadata": {},
   "outputs": [
    {
     "data": {
      "text/plain": [
       "Text(0.5, 1.0, 'Depreciation % of cars Yearwise')"
      ]
     },
     "execution_count": 101,
     "metadata": {},
     "output_type": "execute_result"
    },
    {
     "data": {
      "image/png": "[encoded data removed]",
      "text/plain": [
       "<Figure size 432x288 with 1 Axes>"
      ]
     },
     "metadata": {
      "needs_background": "light"
     },
     "output_type": "display_data"
    }
   ],
   "source": [
    "plt.plot(price_ava.depreciation)\n",
    "plt.title('Depreciation % of cars Yearwise')"
   ]
  },
  {
   "cell_type": "code",
   "execution_count": 102,
   "metadata": {},
   "outputs": [],
   "source": [
    "yearwise_ava = avanza.groupby('delta_year').agg({'count': 'sum'}).reset_index(drop=True)"
   ]
  },
  {
   "cell_type": "code",
   "execution_count": 103,
   "metadata": {},
   "outputs": [
    {
     "data": {
      "text/plain": [
       "[<matplotlib.lines.Line2D at 0x1a203b6940>]"
      ]
     },
     "execution_count": 103,
     "metadata": {},
     "output_type": "execute_result"
    },
    {
     "data": {
      "image/png": "[encoded data removed]",
      "text/plain": [
       "<Figure size 432x288 with 1 Axes>"
      ]
     },
     "metadata": {
      "needs_background": "light"
     },
     "output_type": "display_data"
    }
   ],
   "source": [
    "plt.plot(yearwise_ava)"
   ]
  },
  {
   "cell_type": "code",
   "execution_count": 104,
   "metadata": {},
   "outputs": [],
   "source": [
    "km_ava = avanza.groupby('price').agg({'km': 'mean'}).reset_index(drop=True)"
   ]
  },
  {
   "cell_type": "code",
   "execution_count": 105,
   "metadata": {
    "scrolled": true
   },
   "outputs": [
    {
     "data": {
      "text/html": [
       "<div>\n",
       "<style scoped>\n",
       "    .dataframe tbody tr th:only-of-type {\n",
       "        vertical-align: middle;\n",
       "    }\n",
       "\n",
       "    .dataframe tbody tr th {\n",
       "        vertical-align: top;\n",
       "    }\n",
       "\n",
       "    .dataframe thead th {\n",
       "        text-align: right;\n",
       "    }\n",
       "</style>\n",
       "<table border=\"1\" class=\"dataframe\">\n",
       "  <thead>\n",
       "    <tr style=\"text-align: right;\">\n",
       "      <th></th>\n",
       "      <th>km</th>\n",
       "    </tr>\n",
       "  </thead>\n",
       "  <tbody>\n",
       "    <tr>\n",
       "      <th>0</th>\n",
       "      <td>217000.000000</td>\n",
       "    </tr>\n",
       "    <tr>\n",
       "      <th>1</th>\n",
       "      <td>123338.000000</td>\n",
       "    </tr>\n",
       "    <tr>\n",
       "      <th>2</th>\n",
       "      <td>14533.000000</td>\n",
       "    </tr>\n",
       "    <tr>\n",
       "      <th>3</th>\n",
       "      <td>185478.000000</td>\n",
       "    </tr>\n",
       "    <tr>\n",
       "      <th>4</th>\n",
       "      <td>165976.666667</td>\n",
       "    </tr>\n",
       "  </tbody>\n",
       "</table>\n",
       "</div>"
      ],
      "text/plain": [
       "              km\n",
       "0  217000.000000\n",
       "1  123338.000000\n",
       "2   14533.000000\n",
       "3  185478.000000\n",
       "4  165976.666667"
      ]
     },
     "execution_count": 105,
     "metadata": {},
     "output_type": "execute_result"
    }
   ],
   "source": [
    "km_ava.head()"
   ]
  },
  {
   "cell_type": "code",
   "execution_count": 106,
   "metadata": {},
   "outputs": [
    {
     "data": {
      "text/plain": [
       "(array([10., 24., 21., 13.,  5.,  1.,  2.,  1.,  1.,  1.]),\n",
       " array([1.000000e+00, 2.500090e+04, 5.000080e+04, 7.500070e+04,\n",
       "        1.000006e+05, 1.250005e+05, 1.500004e+05, 1.750003e+05,\n",
       "        2.000002e+05, 2.250001e+05, 2.500000e+05]),\n",
       " <a list of 10 Patch objects>)"
      ]
     },
     "execution_count": 106,
     "metadata": {},
     "output_type": "execute_result"
    },
    {
     "data": {
      "image/png": "[encoded data removed]",
      "text/plain": [
       "<Figure size 432x288 with 1 Axes>"
      ]
     },
     "metadata": {
      "needs_background": "light"
     },
     "output_type": "display_data"
    }
   ],
   "source": [
    "plt.hist(km_ava['km'])"
   ]
  },
  {
   "cell_type": "code",
   "execution_count": 219,
   "metadata": {},
   "outputs": [],
   "source": [
    "y = avanza.price"
   ]
  },
  {
   "cell_type": "code",
   "execution_count": 220,
   "metadata": {},
   "outputs": [],
   "source": [
    "y = y.values"
   ]
  },
  {
   "cell_type": "code",
   "execution_count": 221,
   "metadata": {},
   "outputs": [],
   "source": [
    "y_max = max(y)"
   ]
  },
  {
   "cell_type": "code",
   "execution_count": 222,
   "metadata": {},
   "outputs": [],
   "source": [
    "y_per = (y_max - y)*100/y_max"
   ]
  },
  {
   "cell_type": "code",
   "execution_count": 223,
   "metadata": {},
   "outputs": [],
   "source": [
    "# y = y_per"
   ]
  },
  {
   "cell_type": "code",
   "execution_count": 224,
   "metadata": {},
   "outputs": [],
   "source": [
    "y_mean = y.mean()\n",
    "y_std = y.std()"
   ]
  },
  {
   "cell_type": "code",
   "execution_count": 225,
   "metadata": {},
   "outputs": [],
   "source": [
    "y = (y - y_mean)/y_std"
   ]
  },
  {
   "cell_type": "code",
   "execution_count": 226,
   "metadata": {},
   "outputs": [],
   "source": [
    "x = avanza[['km', 'delta_year']].copy()"
   ]
  },
  {
   "cell_type": "code",
   "execution_count": 227,
   "metadata": {},
   "outputs": [
    {
     "data": {
      "text/html": [
       "<div>\n",
       "<style scoped>\n",
       "    .dataframe tbody tr th:only-of-type {\n",
       "        vertical-align: middle;\n",
       "    }\n",
       "\n",
       "    .dataframe tbody tr th {\n",
       "        vertical-align: top;\n",
       "    }\n",
       "\n",
       "    .dataframe thead th {\n",
       "        text-align: right;\n",
       "    }\n",
       "</style>\n",
       "<table border=\"1\" class=\"dataframe\">\n",
       "  <thead>\n",
       "    <tr style=\"text-align: right;\">\n",
       "      <th></th>\n",
       "      <th>km</th>\n",
       "      <th>delta_year</th>\n",
       "    </tr>\n",
       "  </thead>\n",
       "  <tbody>\n",
       "    <tr>\n",
       "      <th>0</th>\n",
       "      <td>20951.0</td>\n",
       "      <td>6</td>\n",
       "    </tr>\n",
       "    <tr>\n",
       "      <th>1</th>\n",
       "      <td>26216.0</td>\n",
       "      <td>6</td>\n",
       "    </tr>\n",
       "    <tr>\n",
       "      <th>2</th>\n",
       "      <td>17673.0</td>\n",
       "      <td>3</td>\n",
       "    </tr>\n",
       "    <tr>\n",
       "      <th>3</th>\n",
       "      <td>23780.0</td>\n",
       "      <td>3</td>\n",
       "    </tr>\n",
       "    <tr>\n",
       "      <th>4</th>\n",
       "      <td>6371.0</td>\n",
       "      <td>4</td>\n",
       "    </tr>\n",
       "  </tbody>\n",
       "</table>\n",
       "</div>"
      ],
      "text/plain": [
       "        km  delta_year\n",
       "0  20951.0           6\n",
       "1  26216.0           6\n",
       "2  17673.0           3\n",
       "3  23780.0           3\n",
       "4   6371.0           4"
      ]
     },
     "execution_count": 227,
     "metadata": {},
     "output_type": "execute_result"
    }
   ],
   "source": [
    "x.head()"
   ]
  },
  {
   "cell_type": "code",
   "execution_count": 228,
   "metadata": {},
   "outputs": [],
   "source": [
    "x_km_mean = x.km.mean()\n",
    "x_km_range = x.km.max() - x.km.min()"
   ]
  },
  {
   "cell_type": "code",
   "execution_count": 229,
   "metadata": {},
   "outputs": [],
   "source": [
    "x['km'] = (x.km - x_km_mean) / x_km_range"
   ]
  },
  {
   "cell_type": "code",
   "execution_count": 230,
   "metadata": {},
   "outputs": [
    {
     "data": {
      "text/html": [
       "<div>\n",
       "<style scoped>\n",
       "    .dataframe tbody tr th:only-of-type {\n",
       "        vertical-align: middle;\n",
       "    }\n",
       "\n",
       "    .dataframe tbody tr th {\n",
       "        vertical-align: top;\n",
       "    }\n",
       "\n",
       "    .dataframe thead th {\n",
       "        text-align: right;\n",
       "    }\n",
       "</style>\n",
       "<table border=\"1\" class=\"dataframe\">\n",
       "  <thead>\n",
       "    <tr style=\"text-align: right;\">\n",
       "      <th></th>\n",
       "      <th>km</th>\n",
       "      <th>delta_year</th>\n",
       "    </tr>\n",
       "  </thead>\n",
       "  <tbody>\n",
       "    <tr>\n",
       "      <th>0</th>\n",
       "      <td>-0.157419</td>\n",
       "      <td>6</td>\n",
       "    </tr>\n",
       "    <tr>\n",
       "      <th>1</th>\n",
       "      <td>-0.136359</td>\n",
       "      <td>6</td>\n",
       "    </tr>\n",
       "    <tr>\n",
       "      <th>2</th>\n",
       "      <td>-0.170531</td>\n",
       "      <td>3</td>\n",
       "    </tr>\n",
       "    <tr>\n",
       "      <th>3</th>\n",
       "      <td>-0.146103</td>\n",
       "      <td>3</td>\n",
       "    </tr>\n",
       "    <tr>\n",
       "      <th>4</th>\n",
       "      <td>-0.215740</td>\n",
       "      <td>4</td>\n",
       "    </tr>\n",
       "  </tbody>\n",
       "</table>\n",
       "</div>"
      ],
      "text/plain": [
       "         km  delta_year\n",
       "0 -0.157419           6\n",
       "1 -0.136359           6\n",
       "2 -0.170531           3\n",
       "3 -0.146103           3\n",
       "4 -0.215740           4"
      ]
     },
     "execution_count": 230,
     "metadata": {},
     "output_type": "execute_result"
    }
   ],
   "source": [
    "x.head()"
   ]
  },
  {
   "cell_type": "code",
   "execution_count": 231,
   "metadata": {},
   "outputs": [],
   "source": [
    "x_train, x_test, y_train, y_test = train_test_split(x, y, test_size=0.25)"
   ]
  },
  {
   "cell_type": "code",
   "execution_count": 232,
   "metadata": {
    "scrolled": true
   },
   "outputs": [
    {
     "data": {
      "text/plain": [
       "(array([40., 50., 61., 26., 14.,  8.,  4.,  3.,  1.,  3.]),\n",
       " array([-0.24121964, -0.14521966, -0.04921967,  0.04678031,  0.14278029,\n",
       "         0.23878028,  0.33478026,  0.43078025,  0.52678023,  0.62278021,\n",
       "         0.7187802 ]),\n",
       " <a list of 10 Patch objects>)"
      ]
     },
     "execution_count": 232,
     "metadata": {},
     "output_type": "execute_result"
    },
    {
     "data": {
      "image/png": "[encoded data removed]",
      "text/plain": [
       "<Figure size 432x288 with 1 Axes>"
      ]
     },
     "metadata": {
      "needs_background": "light"
     },
     "output_type": "display_data"
    }
   ],
   "source": [
    "plt.hist(x_train.km)"
   ]
  },
  {
   "cell_type": "code",
   "execution_count": 234,
   "metadata": {},
   "outputs": [
    {
     "data": {
      "text/plain": [
       "(array([17., 18., 20.,  5.,  6.,  2.,  2.,  0.,  0.,  1.]),\n",
       " array([-0.23480362, -0.13544522, -0.03608682,  0.06327158,  0.16262997,\n",
       "         0.26198837,  0.36134677,  0.46070517,  0.56006356,  0.65942196,\n",
       "         0.75878036]),\n",
       " <a list of 10 Patch objects>)"
      ]
     },
     "execution_count": 234,
     "metadata": {},
     "output_type": "execute_result"
    },
    {
     "data": {
      "image/png": "[encoded data removed]",
      "text/plain": [
       "<Figure size 432x288 with 1 Axes>"
      ]
     },
     "metadata": {
      "needs_background": "light"
     },
     "output_type": "display_data"
    }
   ],
   "source": [
    "plt.hist(x_test.km)"
   ]
  },
  {
   "cell_type": "code",
   "execution_count": 235,
   "metadata": {},
   "outputs": [],
   "source": [
    "reg = LinearRegression()\n",
    "# reg.fit(x_train, y_train)"
   ]
  },
  {
   "cell_type": "code",
   "execution_count": 236,
   "metadata": {},
   "outputs": [
    {
     "data": {
      "text/plain": [
       "LinearRegression(copy_X=True, fit_intercept=True, n_jobs=None, normalize=False)"
      ]
     },
     "execution_count": 236,
     "metadata": {},
     "output_type": "execute_result"
    }
   ],
   "source": [
    "reg.fit(x_train, y_train)"
   ]
  },
  {
   "cell_type": "code",
   "execution_count": 237,
   "metadata": {},
   "outputs": [],
   "source": [
    "def r2(y_pred, y_true):\n",
    "    res = np.sum(np.square(y_pred - y_true))\n",
    "    tot = np.sum(np.square(y_true - np.mean(y_true)))\n",
    "    return 1 - res/tot\n"
   ]
  },
  {
   "cell_type": "code",
   "execution_count": 238,
   "metadata": {},
   "outputs": [],
   "source": [
    "def rmse(y_pred, y_true):\n",
    "    sq_pred = np.power(y_pred, 2)"
   ]
  },
  {
   "cell_type": "code",
   "execution_count": 239,
   "metadata": {},
   "outputs": [
    {
     "name": "stdout",
     "output_type": "stream",
     "text": [
      "RMSE of Linear Regression classifier: 0.4019\n",
      "R2 of Linear Regression classifier: 0.84\n"
     ]
    },
    {
     "data": {
      "image/png": "[encoded data removed]",
      "text/plain": [
       "<Figure size 432x288 with 1 Axes>"
      ]
     },
     "metadata": {
      "needs_background": "light"
     },
     "output_type": "display_data"
    }
   ],
   "source": [
    "y_pred = reg.predict(x_test)\n",
    "score = math.sqrt(mean_squared_error(y_pred, y_test))\n",
    "print(\"RMSE of Linear Regression classifier:\", round(score,4))\n",
    "print(\"R2 of Linear Regression classifier:\", np.round(r2(y_pred, y_test),4))\n",
    "\n",
    "plt.plot(y_test, color='blue')\n",
    "plt.plot(y_pred, color='red')\n",
    "plt.show()"
   ]
  },
  {
   "cell_type": "markdown",
   "metadata": {},
   "source": [
    "## Decision Tree"
   ]
  },
  {
   "cell_type": "code",
   "execution_count": 240,
   "metadata": {},
   "outputs": [
    {
     "data": {
      "text/plain": [
       "DecisionTreeRegressor(criterion='mse', max_depth=None, max_features=None,\n",
       "                      max_leaf_nodes=None, min_impurity_decrease=0.0,\n",
       "                      min_impurity_split=None, min_samples_leaf=1,\n",
       "                      min_samples_split=2, min_weight_fraction_leaf=0.0,\n",
       "                      presort=False, random_state=0, splitter='best')"
      ]
     },
     "execution_count": 240,
     "metadata": {},
     "output_type": "execute_result"
    }
   ],
   "source": [
    "# create a regressor object \n",
    "regressor = DecisionTreeRegressor(random_state = 0)  \n",
    "  \n",
    "# fit the regressor with X and Y data \n",
    "regressor.fit(x_train, y_train)"
   ]
  },
  {
   "cell_type": "code",
   "execution_count": 241,
   "metadata": {},
   "outputs": [
    {
     "name": "stdout",
     "output_type": "stream",
     "text": [
      "RMSE of Decision Tree Regression: 0.5778\n",
      "R2 of Decision Tree Regression: 0.6693\n"
     ]
    },
    {
     "data": {
      "image/png": "[encoded data removed]",
      "text/plain": [
       "<Figure size 432x288 with 1 Axes>"
      ]
     },
     "metadata": {
      "needs_background": "light"
     },
     "output_type": "display_data"
    }
   ],
   "source": [
    "y_pred = regressor.predict(x_test)\n",
    "score = math.sqrt(mean_squared_error(y_pred, y_test))\n",
    "print(\"RMSE of Decision Tree Regression:\", round(score,4))\n",
    "print(\"R2 of Decision Tree Regression:\", np.round(r2(y_pred, y_test),4))\n",
    "\n",
    "plt.plot(y_test, color='blue')\n",
    "plt.plot(y_pred, color='red')\n",
    "plt.show()"
   ]
  },
  {
   "cell_type": "markdown",
   "metadata": {},
   "source": [
    "## Random Forest"
   ]
  },
  {
   "cell_type": "code",
   "execution_count": 242,
   "metadata": {},
   "outputs": [
    {
     "data": {
      "text/plain": [
       "RandomForestRegressor(bootstrap=True, criterion='mse', max_depth=10,\n",
       "                      max_features='auto', max_leaf_nodes=None,\n",
       "                      min_impurity_decrease=0.0, min_impurity_split=None,\n",
       "                      min_samples_leaf=1, min_samples_split=2,\n",
       "                      min_weight_fraction_leaf=0.0, n_estimators=100,\n",
       "                      n_jobs=None, oob_score=False, random_state=0, verbose=0,\n",
       "                      warm_start=False)"
      ]
     },
     "execution_count": 242,
     "metadata": {},
     "output_type": "execute_result"
    }
   ],
   "source": [
    "forest = RandomForestRegressor(max_depth=10, random_state=0, n_estimators=100)\n",
    "forest.fit(x_train, y_train)"
   ]
  },
  {
   "cell_type": "code",
   "execution_count": 243,
   "metadata": {},
   "outputs": [
    {
     "name": "stdout",
     "output_type": "stream",
     "text": [
      "RMSE of Random Forest Regressor: 0.4188\n",
      "R2 of Random Forest Regressor: 0.8262\n"
     ]
    },
    {
     "data": {
      "image/png": "[encoded data removed]",
      "text/plain": [
       "<Figure size 432x288 with 1 Axes>"
      ]
     },
     "metadata": {
      "needs_background": "light"
     },
     "output_type": "display_data"
    }
   ],
   "source": [
    "y_pred = forest.predict(x_test)\n",
    "score = math.sqrt(mean_squared_error(y_pred, y_test))\n",
    "print(\"RMSE of Random Forest Regressor:\", round(score,4))\n",
    "print(\"R2 of Random Forest Regressor:\", np.round(r2(y_pred, y_test),4))\n",
    "\n",
    "plt.plot(y_test, color='blue')\n",
    "plt.plot(y_pred, color='red')\n",
    "plt.show()"
   ]
  },
  {
   "cell_type": "markdown",
   "metadata": {},
   "source": [
    "## Converting to absolute values"
   ]
  },
  {
   "cell_type": "code",
   "execution_count": 244,
   "metadata": {},
   "outputs": [],
   "source": [
    "# y_abs_pred = y_max - y_pred * (y_max/100)\n",
    "# y_abs_test = y_max - y_test * (y_max/100)\n"
   ]
  },
  {
   "cell_type": "code",
   "execution_count": 245,
   "metadata": {},
   "outputs": [],
   "source": [
    "y_abs_pred = y_pred*y_std + y_mean\n",
    "y_abs_test = y_test*y_std + y_mean"
   ]
  },
  {
   "cell_type": "code",
   "execution_count": 246,
   "metadata": {},
   "outputs": [],
   "source": [
    "err = abs(y_abs_test - y_abs_pred)"
   ]
  },
  {
   "cell_type": "markdown",
   "metadata": {},
   "source": [
    "### Percentage Error \n",
    "Average error while predicting the car price directly"
   ]
  },
  {
   "cell_type": "code",
   "execution_count": 247,
   "metadata": {},
   "outputs": [
    {
     "name": "stdout",
     "output_type": "stream",
     "text": [
      "Average Error while predicting the car prices: 114797 Indonesian Rupees\n"
     ]
    }
   ],
   "source": [
    "print('Average Error while predicting the car prices: %d Indonesian Rupees' %(err.mean()/len(y_abs_test)))"
   ]
  },
  {
   "cell_type": "code",
   "execution_count": 248,
   "metadata": {},
   "outputs": [],
   "source": [
    "met = abs(y_abs_test- y_abs_pred)*100/y_abs_pred"
   ]
  },
  {
   "cell_type": "code",
   "execution_count": 249,
   "metadata": {},
   "outputs": [
    {
     "name": "stdout",
     "output_type": "stream",
     "text": [
      "Mean Percentage error while predicting the prices: 5.848118\n",
      "Range Percentage error while predicting the prices: 0.031228 22.090721\n"
     ]
    }
   ],
   "source": [
    "print('Mean Percentage error while predicting the prices: %f' %(met.mean()))\n",
    "print('Range Percentage error while predicting the prices: %f %f' %(min(met), max(met)))"
   ]
  },
  {
   "cell_type": "code",
   "execution_count": 250,
   "metadata": {},
   "outputs": [
    {
     "data": {
      "text/plain": [
       "(array([14., 16., 15., 12.,  9.,  2.,  0.,  1.,  0.,  2.]),\n",
       " array([ 0.03122833,  2.23717761,  4.44312689,  6.64907617,  8.85502544,\n",
       "        11.06097472, 13.266924  , 15.47287327, 17.67882255, 19.88477183,\n",
       "        22.09072111]),\n",
       " <a list of 10 Patch objects>)"
      ]
     },
     "execution_count": 250,
     "metadata": {},
     "output_type": "execute_result"
    },
    {
     "data": {
      "image/png": "[encoded data removed]",
      "text/plain": [
       "<Figure size 432x288 with 1 Axes>"
      ]
     },
     "metadata": {
      "needs_background": "light"
     },
     "output_type": "display_data"
    }
   ],
   "source": [
    "plt.hist(met)"
   ]
  },
  {
   "cell_type": "code",
   "execution_count": 251,
   "metadata": {},
   "outputs": [
    {
     "name": "stdout",
     "output_type": "stream",
     "text": [
      "95 percentage of times percentage error is below : 8.8518521891628\n"
     ]
    }
   ],
   "source": [
    "met.sort()\n",
    "print('95 percentage of times percentage error is below : %s' %(met[int(len(met)*0.80)]))"
   ]
  },
  {
   "cell_type": "code",
   "execution_count": 256,
   "metadata": {},
   "outputs": [],
   "source": [
    "a = x_test[met>10].reset_index(drop=True)"
   ]
  },
  {
   "cell_type": "code",
   "execution_count": 257,
   "metadata": {},
   "outputs": [],
   "source": [
    "a['km'] = a.km*x_km_range + x_km_mean"
   ]
  },
  {
   "cell_type": "code",
   "execution_count": 259,
   "metadata": {},
   "outputs": [],
   "source": [
    "a['error'] = met[met>10]"
   ]
  },
  {
   "cell_type": "code",
   "execution_count": 260,
   "metadata": {},
   "outputs": [
    {
     "data": {
      "text/html": [
       "<div>\n",
       "<style scoped>\n",
       "    .dataframe tbody tr th:only-of-type {\n",
       "        vertical-align: middle;\n",
       "    }\n",
       "\n",
       "    .dataframe tbody tr th {\n",
       "        vertical-align: top;\n",
       "    }\n",
       "\n",
       "    .dataframe thead th {\n",
       "        text-align: right;\n",
       "    }\n",
       "</style>\n",
       "<table border=\"1\" class=\"dataframe\">\n",
       "  <thead>\n",
       "    <tr style=\"text-align: right;\">\n",
       "      <th></th>\n",
       "      <th>km</th>\n",
       "      <th>delta_year</th>\n",
       "      <th>error</th>\n",
       "    </tr>\n",
       "  </thead>\n",
       "  <tbody>\n",
       "    <tr>\n",
       "      <th>0</th>\n",
       "      <td>20562.0</td>\n",
       "      <td>3</td>\n",
       "      <td>10.174185</td>\n",
       "    </tr>\n",
       "    <tr>\n",
       "      <th>1</th>\n",
       "      <td>55846.0</td>\n",
       "      <td>3</td>\n",
       "      <td>10.231184</td>\n",
       "    </tr>\n",
       "    <tr>\n",
       "      <th>2</th>\n",
       "      <td>65979.0</td>\n",
       "      <td>5</td>\n",
       "      <td>10.433894</td>\n",
       "    </tr>\n",
       "    <tr>\n",
       "      <th>3</th>\n",
       "      <td>45000.0</td>\n",
       "      <td>6</td>\n",
       "      <td>10.559460</td>\n",
       "    </tr>\n",
       "    <tr>\n",
       "      <th>4</th>\n",
       "      <td>17673.0</td>\n",
       "      <td>3</td>\n",
       "      <td>10.978428</td>\n",
       "    </tr>\n",
       "    <tr>\n",
       "      <th>5</th>\n",
       "      <td>1605.0</td>\n",
       "      <td>1</td>\n",
       "      <td>12.330263</td>\n",
       "    </tr>\n",
       "    <tr>\n",
       "      <th>6</th>\n",
       "      <td>36117.0</td>\n",
       "      <td>3</td>\n",
       "      <td>12.330263</td>\n",
       "    </tr>\n",
       "    <tr>\n",
       "      <th>7</th>\n",
       "      <td>79741.0</td>\n",
       "      <td>8</td>\n",
       "      <td>16.123364</td>\n",
       "    </tr>\n",
       "    <tr>\n",
       "      <th>8</th>\n",
       "      <td>103605.0</td>\n",
       "      <td>3</td>\n",
       "      <td>20.925264</td>\n",
       "    </tr>\n",
       "    <tr>\n",
       "      <th>9</th>\n",
       "      <td>13634.0</td>\n",
       "      <td>8</td>\n",
       "      <td>22.090721</td>\n",
       "    </tr>\n",
       "  </tbody>\n",
       "</table>\n",
       "</div>"
      ],
      "text/plain": [
       "         km  delta_year      error\n",
       "0   20562.0           3  10.174185\n",
       "1   55846.0           3  10.231184\n",
       "2   65979.0           5  10.433894\n",
       "3   45000.0           6  10.559460\n",
       "4   17673.0           3  10.978428\n",
       "5    1605.0           1  12.330263\n",
       "6   36117.0           3  12.330263\n",
       "7   79741.0           8  16.123364\n",
       "8  103605.0           3  20.925264\n",
       "9   13634.0           8  22.090721"
      ]
     },
     "execution_count": 260,
     "metadata": {},
     "output_type": "execute_result"
    }
   ],
   "source": [
    "a"
   ]
  },
  {
   "cell_type": "markdown",
   "metadata": {},
   "source": [
    "## Nueral Network"
   ]
  },
  {
   "cell_type": "code",
   "execution_count": 370,
   "metadata": {},
   "outputs": [],
   "source": [
    "x_train = x_train.values"
   ]
  },
  {
   "cell_type": "code",
   "execution_count": 371,
   "metadata": {},
   "outputs": [],
   "source": [
    "from keras.models import Sequential\n",
    "from keras import layers\n",
    "from keras.layers.normalization import BatchNormalization\n",
    "\n",
    "input_dim = x_train.shape[1]  # Number of features\n",
    "model = []\n",
    "model = Sequential()\n",
    "model.add(layers.Dense(30\n",
    "                       , input_dim=input_dim, activation='relu',kernel_initializer='uniform'))\n",
    "model.add(layers.Dense(20,kernel_initializer='uniform', activation='relu'))\n",
    "model.add(layers.Dense(10,kernel_initializer='uniform', activation='relu'))\n",
    "model.add(layers.Dense(1))"
   ]
  },
  {
   "cell_type": "code",
   "execution_count": 372,
   "metadata": {
    "scrolled": true
   },
   "outputs": [
    {
     "name": "stdout",
     "output_type": "stream",
     "text": [
      "_________________________________________________________________\n",
      "Layer (type)                 Output Shape              Param #   \n",
      "=================================================================\n",
      "dense_17 (Dense)             (None, 30)                90        \n",
      "_________________________________________________________________\n",
      "dense_18 (Dense)             (None, 20)                620       \n",
      "_________________________________________________________________\n",
      "dense_19 (Dense)             (None, 10)                210       \n",
      "_________________________________________________________________\n",
      "dense_20 (Dense)             (None, 1)                 11        \n",
      "=================================================================\n",
      "Total params: 931\n",
      "Trainable params: 931\n",
      "Non-trainable params: 0\n",
      "_________________________________________________________________\n"
     ]
    }
   ],
   "source": [
    "model.compile(loss='mean_squared_error', \n",
    "              optimizer='adam')\n",
    "model.summary()"
   ]
  },
  {
   "cell_type": "code",
   "execution_count": 373,
   "metadata": {
    "scrolled": true
   },
   "outputs": [
    {
     "name": "stdout",
     "output_type": "stream",
     "text": [
      "Train on 217 samples, validate on 73 samples\n",
      "Epoch 1/100\n",
      "217/217 [==============================] - 3s 12ms/step - loss: 1.2267 - val_loss: 0.3268\n",
      "Epoch 2/100\n",
      "217/217 [==============================] - 0s 348us/step - loss: 1.2211 - val_loss: 0.3153\n",
      "Epoch 3/100\n",
      "217/217 [==============================] - 0s 409us/step - loss: 1.2116 - val_loss: 0.2952\n",
      "Epoch 4/100\n",
      "217/217 [==============================] - 0s 362us/step - loss: 1.1951 - val_loss: 0.2634\n",
      "Epoch 5/100\n",
      "217/217 [==============================] - 0s 398us/step - loss: 1.1768 - val_loss: 0.2083\n",
      "Epoch 6/100\n",
      "217/217 [==============================] - 0s 362us/step - loss: 1.1457 - val_loss: 0.1809\n",
      "Epoch 7/100\n",
      "217/217 [==============================] - 0s 383us/step - loss: 1.1300 - val_loss: 0.1547\n",
      "Epoch 8/100\n",
      "217/217 [==============================] - 0s 382us/step - loss: 1.1218 - val_loss: 0.1256\n",
      "Epoch 9/100\n",
      "217/217 [==============================] - 0s 386us/step - loss: 1.1192 - val_loss: 0.1143\n",
      "Epoch 10/100\n",
      "217/217 [==============================] - 0s 414us/step - loss: 1.1096 - val_loss: 0.1101\n",
      "Epoch 11/100\n",
      "217/217 [==============================] - 0s 345us/step - loss: 1.1089 - val_loss: 0.1052\n",
      "Epoch 12/100\n",
      "217/217 [==============================] - 0s 390us/step - loss: 1.1097 - val_loss: 0.1004\n",
      "Epoch 13/100\n",
      "217/217 [==============================] - 0s 398us/step - loss: 1.1079 - val_loss: 0.0963\n",
      "Epoch 14/100\n",
      "217/217 [==============================] - 0s 426us/step - loss: 1.1071 - val_loss: 0.0962\n",
      "Epoch 15/100\n",
      "217/217 [==============================] - 0s 457us/step - loss: 1.1038 - val_loss: 0.0961\n",
      "Epoch 16/100\n",
      "217/217 [==============================] - 0s 491us/step - loss: 1.1048 - val_loss: 0.0931\n",
      "Epoch 17/100\n",
      "217/217 [==============================] - 0s 484us/step - loss: 1.1029 - val_loss: 0.0931\n",
      "Epoch 18/100\n",
      "217/217 [==============================] - 0s 411us/step - loss: 1.1038 - val_loss: 0.0854\n",
      "Epoch 19/100\n",
      "217/217 [==============================] - 0s 398us/step - loss: 1.1100 - val_loss: 0.0956\n",
      "Epoch 20/100\n",
      "217/217 [==============================] - 0s 433us/step - loss: 1.1025 - val_loss: 0.0884\n",
      "Epoch 21/100\n",
      "217/217 [==============================] - 0s 457us/step - loss: 1.1041 - val_loss: 0.0866\n",
      "Epoch 22/100\n",
      "217/217 [==============================] - 0s 467us/step - loss: 1.1031 - val_loss: 0.0908\n",
      "Epoch 23/100\n",
      "217/217 [==============================] - 0s 463us/step - loss: 1.1005 - val_loss: 0.0873\n",
      "Epoch 24/100\n",
      "217/217 [==============================] - 0s 460us/step - loss: 1.0992 - val_loss: 0.0867\n",
      "Epoch 25/100\n",
      "217/217 [==============================] - 0s 463us/step - loss: 1.1028 - val_loss: 0.0863\n",
      "Epoch 26/100\n",
      "217/217 [==============================] - 0s 430us/step - loss: 1.0985 - val_loss: 0.0857\n",
      "Epoch 27/100\n",
      "217/217 [==============================] - 0s 415us/step - loss: 1.0995 - val_loss: 0.0846\n",
      "Epoch 28/100\n",
      "217/217 [==============================] - 0s 430us/step - loss: 1.1006 - val_loss: 0.0853\n",
      "Epoch 29/100\n",
      "217/217 [==============================] - 0s 516us/step - loss: 1.1002 - val_loss: 0.0802\n",
      "Epoch 30/100\n",
      "217/217 [==============================] - 0s 466us/step - loss: 1.0994 - val_loss: 0.0862\n",
      "Epoch 31/100\n",
      "217/217 [==============================] - 0s 396us/step - loss: 1.0992 - val_loss: 0.0830\n",
      "Epoch 32/100\n",
      "217/217 [==============================] - 0s 479us/step - loss: 1.1026 - val_loss: 0.0874\n",
      "Epoch 33/100\n",
      "217/217 [==============================] - 0s 438us/step - loss: 1.0978 - val_loss: 0.0812\n",
      "Epoch 34/100\n",
      "217/217 [==============================] - 0s 522us/step - loss: 1.0967 - val_loss: 0.0841\n",
      "Epoch 35/100\n",
      "217/217 [==============================] - 0s 533us/step - loss: 1.0974 - val_loss: 0.0849\n",
      "Epoch 36/100\n",
      "217/217 [==============================] - 0s 479us/step - loss: 1.0968 - val_loss: 0.0848\n",
      "Epoch 37/100\n",
      "217/217 [==============================] - 0s 441us/step - loss: 1.0988 - val_loss: 0.0816\n",
      "Epoch 38/100\n",
      "217/217 [==============================] - 0s 539us/step - loss: 1.0993 - val_loss: 0.0852\n",
      "Epoch 39/100\n",
      "217/217 [==============================] - 0s 479us/step - loss: 1.0959 - val_loss: 0.0829\n",
      "Epoch 40/100\n",
      "217/217 [==============================] - 0s 406us/step - loss: 1.0977 - val_loss: 0.0771\n",
      "Epoch 41/100\n",
      "217/217 [==============================] - 0s 501us/step - loss: 1.0940 - val_loss: 0.0833\n",
      "Epoch 42/100\n",
      "217/217 [==============================] - 0s 399us/step - loss: 1.0984 - val_loss: 0.0806\n",
      "Epoch 43/100\n",
      "217/217 [==============================] - 0s 508us/step - loss: 1.0958 - val_loss: 0.0821\n",
      "Epoch 44/100\n",
      "217/217 [==============================] - 0s 465us/step - loss: 1.0963 - val_loss: 0.0864\n",
      "Epoch 45/100\n",
      "217/217 [==============================] - 0s 463us/step - loss: 1.0976 - val_loss: 0.0869\n",
      "Epoch 46/100\n",
      "217/217 [==============================] - 0s 538us/step - loss: 1.0947 - val_loss: 0.0844\n",
      "Epoch 47/100\n",
      "217/217 [==============================] - 0s 581us/step - loss: 1.0967 - val_loss: 0.0819\n",
      "Epoch 48/100\n",
      "217/217 [==============================] - 0s 664us/step - loss: 1.1035 - val_loss: 0.0840\n",
      "Epoch 49/100\n",
      "217/217 [==============================] - 0s 374us/step - loss: 1.0956 - val_loss: 0.0845\n",
      "Epoch 50/100\n",
      "217/217 [==============================] - 0s 435us/step - loss: 1.0941 - val_loss: 0.0808\n",
      "Epoch 51/100\n",
      "217/217 [==============================] - 0s 446us/step - loss: 1.0934 - val_loss: 0.0826\n",
      "Epoch 52/100\n",
      "217/217 [==============================] - 0s 535us/step - loss: 1.0937 - val_loss: 0.0798\n",
      "Epoch 53/100\n",
      "217/217 [==============================] - 0s 479us/step - loss: 1.0953 - val_loss: 0.0832\n",
      "Epoch 54/100\n",
      "217/217 [==============================] - 0s 385us/step - loss: 1.0944 - val_loss: 0.0832\n",
      "Epoch 55/100\n",
      "217/217 [==============================] - 0s 458us/step - loss: 1.0924 - val_loss: 0.0812\n",
      "Epoch 56/100\n",
      "217/217 [==============================] - 0s 376us/step - loss: 1.0918 - val_loss: 0.0815\n",
      "Epoch 57/100\n",
      "217/217 [==============================] - 0s 426us/step - loss: 1.0913 - val_loss: 0.0830\n",
      "Epoch 58/100\n",
      "217/217 [==============================] - 0s 499us/step - loss: 1.0925 - val_loss: 0.0789\n",
      "Epoch 59/100\n",
      "217/217 [==============================] - 0s 476us/step - loss: 1.0926 - val_loss: 0.0816\n",
      "Epoch 60/100\n",
      "217/217 [==============================] - 0s 456us/step - loss: 1.0933 - val_loss: 0.0809\n",
      "Epoch 61/100\n",
      "217/217 [==============================] - 0s 611us/step - loss: 1.0937 - val_loss: 0.0794\n",
      "Epoch 62/100\n",
      "217/217 [==============================] - 0s 563us/step - loss: 1.0901 - val_loss: 0.0790\n",
      "Epoch 63/100\n",
      "217/217 [==============================] - 0s 462us/step - loss: 1.0912 - val_loss: 0.0840\n",
      "Epoch 64/100\n",
      "217/217 [==============================] - 0s 542us/step - loss: 1.0915 - val_loss: 0.0800\n",
      "Epoch 65/100\n",
      "217/217 [==============================] - 0s 531us/step - loss: 1.0893 - val_loss: 0.0802\n",
      "Epoch 66/100\n",
      "217/217 [==============================] - 0s 447us/step - loss: 1.0904 - val_loss: 0.0824\n",
      "Epoch 67/100\n",
      "217/217 [==============================] - 0s 504us/step - loss: 1.0912 - val_loss: 0.0799\n",
      "Epoch 68/100\n",
      "217/217 [==============================] - 0s 456us/step - loss: 1.0880 - val_loss: 0.0820\n",
      "Epoch 69/100\n",
      "217/217 [==============================] - 0s 425us/step - loss: 1.0840 - val_loss: 0.0801\n",
      "Epoch 70/100\n",
      "217/217 [==============================] - 0s 480us/step - loss: 1.0857 - val_loss: 0.0807\n",
      "Epoch 71/100\n",
      "217/217 [==============================] - 0s 464us/step - loss: 1.0842 - val_loss: 0.0802\n",
      "Epoch 72/100\n",
      "217/217 [==============================] - 0s 508us/step - loss: 1.0836 - val_loss: 0.0761\n",
      "Epoch 73/100\n",
      "217/217 [==============================] - 0s 477us/step - loss: 1.0834 - val_loss: 0.0791\n",
      "Epoch 74/100\n",
      "217/217 [==============================] - 0s 412us/step - loss: 1.0824 - val_loss: 0.0775\n",
      "Epoch 75/100\n",
      "217/217 [==============================] - 0s 420us/step - loss: 1.0835 - val_loss: 0.0824\n",
      "Epoch 76/100\n",
      "217/217 [==============================] - 0s 419us/step - loss: 1.0813 - val_loss: 0.0801\n",
      "Epoch 77/100\n",
      "217/217 [==============================] - 0s 394us/step - loss: 1.0794 - val_loss: 0.0797\n",
      "Epoch 78/100\n",
      "217/217 [==============================] - 0s 391us/step - loss: 1.0790 - val_loss: 0.0792\n",
      "Epoch 79/100\n",
      "217/217 [==============================] - 0s 364us/step - loss: 1.0835 - val_loss: 0.0769\n",
      "Epoch 80/100\n",
      "217/217 [==============================] - 0s 406us/step - loss: 1.0769 - val_loss: 0.0772\n",
      "Epoch 81/100\n",
      "217/217 [==============================] - 0s 425us/step - loss: 1.0772 - val_loss: 0.0762\n",
      "Epoch 82/100\n",
      "217/217 [==============================] - 0s 353us/step - loss: 1.0739 - val_loss: 0.0792\n",
      "Epoch 83/100\n",
      "217/217 [==============================] - 0s 382us/step - loss: 1.0762 - val_loss: 0.0756\n",
      "Epoch 84/100\n",
      "217/217 [==============================] - 0s 466us/step - loss: 1.0719 - val_loss: 0.0799\n",
      "Epoch 85/100\n",
      "217/217 [==============================] - 0s 470us/step - loss: 1.0721 - val_loss: 0.0762\n",
      "Epoch 86/100\n",
      "217/217 [==============================] - 0s 414us/step - loss: 1.0709 - val_loss: 0.0794\n",
      "Epoch 87/100\n",
      "217/217 [==============================] - 0s 397us/step - loss: 1.0676 - val_loss: 0.0786\n",
      "Epoch 88/100\n",
      "217/217 [==============================] - 0s 405us/step - loss: 1.0696 - val_loss: 0.0775\n",
      "Epoch 89/100\n",
      "217/217 [==============================] - 0s 429us/step - loss: 1.0651 - val_loss: 0.0766\n",
      "Epoch 90/100\n",
      "217/217 [==============================] - 0s 430us/step - loss: 1.0673 - val_loss: 0.0817\n",
      "Epoch 91/100\n",
      "217/217 [==============================] - 0s 423us/step - loss: 1.0637 - val_loss: 0.0781\n",
      "Epoch 92/100\n",
      "217/217 [==============================] - 0s 476us/step - loss: 1.0627 - val_loss: 0.0744\n",
      "Epoch 93/100\n",
      "217/217 [==============================] - 0s 440us/step - loss: 1.0606 - val_loss: 0.0736\n",
      "Epoch 94/100\n",
      "217/217 [==============================] - 0s 402us/step - loss: 1.0589 - val_loss: 0.0731\n",
      "Epoch 95/100\n",
      "217/217 [==============================] - 0s 389us/step - loss: 1.0579 - val_loss: 0.0708\n",
      "Epoch 96/100\n",
      "217/217 [==============================] - 0s 417us/step - loss: 1.0578 - val_loss: 0.0751\n",
      "Epoch 97/100\n",
      "217/217 [==============================] - 0s 450us/step - loss: 1.0572 - val_loss: 0.0755\n",
      "Epoch 98/100\n",
      "217/217 [==============================] - 0s 390us/step - loss: 1.0561 - val_loss: 0.0726\n",
      "Epoch 99/100\n",
      "217/217 [==============================] - 0s 471us/step - loss: 1.0564 - val_loss: 0.0722\n",
      "Epoch 100/100\n",
      "217/217 [==============================] - 0s 399us/step - loss: 1.0529 - val_loss: 0.0711\n"
     ]
    }
   ],
   "source": [
    "history = model.fit(x_train, y_train,\n",
    "                 epochs=100,\n",
    "                 verbose=True,\n",
    "                 validation_data=(x_test, y_test),\n",
    "                 batch_size=10)"
   ]
  },
  {
   "cell_type": "code",
   "execution_count": 374,
   "metadata": {},
   "outputs": [
    {
     "name": "stdout",
     "output_type": "stream",
     "text": [
      "RMSE of NN regressor: 0.2666\n",
      "R2 of NN regressor: 0.784752109433763\n"
     ]
    },
    {
     "data": {
      "image/png": "[encoded data removed]",
      "text/plain": [
       "<Figure size 432x288 with 1 Axes>"
      ]
     },
     "metadata": {
      "needs_background": "light"
     },
     "output_type": "display_data"
    }
   ],
   "source": [
    "y_pred = model.predict(x_test)\n",
    "score = math.sqrt(mean_squared_error(y_pred, y_test))\n",
    "print(\"RMSE of NN regressor:\", round(score,4))\n",
    "print(\"R2 of NN regressor:\",  r2_score(y_test, y_pred))\n",
    "\n",
    "plt.plot(y_test, color='blue')\n",
    "plt.plot(y_pred, color='red')\n",
    "plt.show()"
   ]
  },
  {
   "cell_type": "code",
   "execution_count": 375,
   "metadata": {},
   "outputs": [],
   "source": [
    "y_abs_pred = y_pred*y_std + y_mean\n",
    "y_abs_test = y_test*y_std + y_mean\n",
    "err = abs(y_abs_test - y_abs_pred)"
   ]
  },
  {
   "cell_type": "markdown",
   "metadata": {},
   "source": [
    "### Percentage Error \n",
    "Average error while predicting the car price directly"
   ]
  },
  {
   "cell_type": "code",
   "execution_count": 376,
   "metadata": {
    "scrolled": true
   },
   "outputs": [
    {
     "name": "stdout",
     "output_type": "stream",
     "text": [
      "Average Error while predicting the car prices: 353052 Indonesian Rupees\n"
     ]
    }
   ],
   "source": [
    "print('Average Error while predicting the car prices: %d Indonesian Rupees' %(err.mean()/len(y_abs_test)))"
   ]
  },
  {
   "cell_type": "code",
   "execution_count": 377,
   "metadata": {},
   "outputs": [],
   "source": [
    "met = np.abs(y_abs_test- y_abs_pred[:,0])*100/y_abs_pred[:,0]"
   ]
  },
  {
   "cell_type": "code",
   "execution_count": 378,
   "metadata": {
    "scrolled": true
   },
   "outputs": [
    {
     "name": "stdout",
     "output_type": "stream",
     "text": [
      "Mean Percentage error while predicting the prices: 6.212293\n",
      "Range Percentage error while predicting the prices: 0.18371832512318972 34.638353837485084\n"
     ]
    }
   ],
   "source": [
    "print('Mean Percentage error while predicting the prices: %f' %(met.mean()))\n",
    "print('Range Percentage error while predicting the prices: %s %s' %(np.min(met), np.max(met)))"
   ]
  },
  {
   "cell_type": "code",
   "execution_count": 379,
   "metadata": {},
   "outputs": [
    {
     "data": {
      "text/plain": [
       "(array([33., 19., 10.,  5.,  1.,  2.,  1.,  0.,  0.,  2.]),\n",
       " array([ 0.18371833,  3.62918188,  7.07464543, 10.52010898, 13.96557253,\n",
       "        17.41103608, 20.85649963, 24.30196318, 27.74742674, 31.19289029,\n",
       "        34.63835384]),\n",
       " <a list of 10 Patch objects>)"
      ]
     },
     "execution_count": 379,
     "metadata": {},
     "output_type": "execute_result"
    },
    {
     "data": {
      "image/png": "[encoded data removed]",
      "text/plain": [
       "<Figure size 432x288 with 1 Axes>"
      ]
     },
     "metadata": {
      "needs_background": "light"
     },
     "output_type": "display_data"
    }
   ],
   "source": [
    "plt.hist(met)"
   ]
  },
  {
   "cell_type": "code",
   "execution_count": 380,
   "metadata": {},
   "outputs": [
    {
     "name": "stdout",
     "output_type": "stream",
     "text": [
      "95 percentage of times percentage error is below : 19.745639374594575\n"
     ]
    }
   ],
   "source": [
    "met.sort()\n",
    "print('95 percentage of times percentage error is below : %s' %(met[int(len(met)*0.95)]))"
   ]
  },
  {
   "cell_type": "code",
   "execution_count": 261,
   "metadata": {},
   "outputs": [],
   "source": [
    "data = {}"
   ]
  },
  {
   "cell_type": "code",
   "execution_count": 262,
   "metadata": {},
   "outputs": [],
   "source": [
    "data['toyota e1'] = {'mean%': 23,\n",
    "                     'min%': 2,\n",
    "                     'max%': 23,\n",
    "                     '95%time': 16}"
   ]
  },
  {
   "cell_type": "code",
   "execution_count": 263,
   "metadata": {},
   "outputs": [],
   "source": [
    "df3 = pd.DataFrame(data)"
   ]
  },
  {
   "cell_type": "code",
   "execution_count": 285,
   "metadata": {},
   "outputs": [
    {
     "data": {
      "text/html": [
       "<div>\n",
       "<style scoped>\n",
       "    .dataframe tbody tr th:only-of-type {\n",
       "        vertical-align: middle;\n",
       "    }\n",
       "\n",
       "    .dataframe tbody tr th {\n",
       "        vertical-align: top;\n",
       "    }\n",
       "\n",
       "    .dataframe thead th {\n",
       "        text-align: right;\n",
       "    }\n",
       "</style>\n",
       "<table border=\"1\" class=\"dataframe\">\n",
       "  <thead>\n",
       "    <tr style=\"text-align: right;\">\n",
       "      <th></th>\n",
       "      <th>toyota e1</th>\n",
       "    </tr>\n",
       "  </thead>\n",
       "  <tbody>\n",
       "    <tr>\n",
       "      <th>95%time</th>\n",
       "      <td>16</td>\n",
       "    </tr>\n",
       "    <tr>\n",
       "      <th>max%</th>\n",
       "      <td>23</td>\n",
       "    </tr>\n",
       "    <tr>\n",
       "      <th>mean%</th>\n",
       "      <td>23</td>\n",
       "    </tr>\n",
       "    <tr>\n",
       "      <th>min%</th>\n",
       "      <td>2</td>\n",
       "    </tr>\n",
       "  </tbody>\n",
       "</table>\n",
       "</div>"
      ],
      "text/plain": [
       "         toyota e1\n",
       "95%time         16\n",
       "max%            23\n",
       "mean%           23\n",
       "min%             2"
      ]
     },
     "execution_count": 285,
     "metadata": {},
     "output_type": "execute_result"
    }
   ],
   "source": [
    "df3"
   ]
  },
  {
   "cell_type": "code",
   "execution_count": 282,
   "metadata": {},
   "outputs": [],
   "source": [
    "models = model.model[model['count'] > 50]"
   ]
  },
  {
   "cell_type": "code",
   "execution_count": 284,
   "metadata": {
    "scrolled": true
   },
   "outputs": [
    {
     "data": {
      "text/plain": [
       "['honda mobilio (2013-2017) e  mt',\n",
       " 'toyota yaris (2009-2012) e at',\n",
       " 'honda accord 2.4l vti-l',\n",
       " 'suzuki apv arena gx mt',\n",
       " 'toyota kijang innova g a/t gasoline',\n",
       " 'daihatsu sirion (2012-2017) d fmc at',\n",
       " 'nissan grand livina (2006-2011) 1.5 xv at',\n",
       " 'suzuki ertiga (2016-2017) gl mt',\n",
       " 'nissan march 1.2l at',\n",
       " 'daihatsu terios (2006-2017) tx at extra',\n",
       " 'toyota avanza (2011-2015) 1.3 e mt',\n",
       " 'honda brio (2016-2018) satya e cvt',\n",
       " 'toyota avanza (2011-2015) 1.5 g mt',\n",
       " 'suzuki ertiga\\xa0(2012-2016) gx at',\n",
       " 'nissan serena (2016-2018) 2.0 hws',\n",
       " 'toyota rush (2006-2015) s at',\n",
       " 'mazda biante skyactive',\n",
       " 'toyota yaris trd trd sportivo cvt',\n",
       " 'toyota avanza veloz (2011-2015) 1.5 at',\n",
       " 'daihatsu ayla 1.0l x mt',\n",
       " 'mazda 2 r at',\n",
       " 'honda mobilio (2013-2017) rs cvt',\n",
       " 'toyota vios (2007-2013) g at',\n",
       " 'nissan grand livina (2011-2013) 1.5 xv at',\n",
       " 'nissan grand livina 1.5 sv cvt',\n",
       " 'mitsubishi pajero\\xa0sport\\xa0(2008-2015) exceed 4x2',\n",
       " 'honda mobilio e cvt',\n",
       " 'suzuki ertiga\\xa0(2012-2016) gx mt',\n",
       " 'toyota camry (2006-2011) 2.4 v at',\n",
       " 'honda crv (2012-2017) 2.4l prestige at',\n",
       " 'honda civic (2011-2015) 1.8l at',\n",
       " 'honda hrv (2015-2018) 1.8l e cvt',\n",
       " 'honda crv (2012-2017) 2.0 i-vtec at',\n",
       " 'nissan x trail 2.5 cvt',\n",
       " 'toyota calya g mt',\n",
       " 'toyota avanza (2011-2015) 1.3 g at',\n",
       " 'toyota calya g at',\n",
       " 'honda city e cvt',\n",
       " 'toyota kijang\\xa0(2004-2015) g m/t 2.0l gasoline',\n",
       " 'toyota avanza 1.3 e m/t',\n",
       " 'toyota alphard (2008-2014) 2.4 at',\n",
       " 'toyota fortuner\\xa0(2011-2016) 2.5 g a/t',\n",
       " 'toyota kijang\\xa0(2004-2015) g a/t 2.0l gasoline',\n",
       " 'toyota fortuner 2.4 vrz at',\n",
       " 'daihatsu xenia x mt 1.3 std',\n",
       " 'honda jazz (2014-2017) rs cvt',\n",
       " 'mitsubishi pajero\\xa0sport\\xa0(2008-2015) dakar 4x2',\n",
       " 'toyota avanza veloz (2015-2018) 1.5 a/t ',\n",
       " 'honda crv 2.0l',\n",
       " 'mitsubishi pajero sport dakar 4x2 at',\n",
       " 'mitsubishi outlander sport px',\n",
       " 'honda cr-v (2007-2011) 2.0 a.t ivtec',\n",
       " 'toyota avanza (2003-2011) 1.3 g mt',\n",
       " 'honda mobilio (2013-2017) e  cvt',\n",
       " 'toyota fortuner\\xa0(2011-2016) 2.5 g a/t trd diesel',\n",
       " 'toyota avanza 1.3 g a/t',\n",
       " 'daihatsu terios (2006-2017) tx mt',\n",
       " 'nissan grand livina 1.5 xv cvt',\n",
       " 'honda hrv (2015-2018) 1.5l e cvt',\n",
       " 'daihatsu xenia r mt 1.3 std',\n",
       " 'honda jazz (2008-2014) 1.5l rs at',\n",
       " 'toyota kijang innova g m/t gasoline',\n",
       " 'toyota avanza (2011-2015) 1.3 g mt',\n",
       " 'honda crv (2012-2017) 2.4 i-vtec at',\n",
       " 'honda freed (2009-2014) psd',\n",
       " 'toyota avanza 1.3 g m/t']"
      ]
     },
     "execution_count": 284,
     "metadata": {},
     "output_type": "execute_result"
    }
   ],
   "source": [
    "list(models)"
   ]
  },
  {
   "cell_type": "code",
   "execution_count": null,
   "metadata": {},
   "outputs": [],
   "source": []
  }
 ],
 "metadata": {
  "kernelspec": {
   "display_name": "Python 3",
   "language": "python",
   "name": "python3"
  },
  "language_info": {
   "codemirror_mode": {
    "name": "ipython",
    "version": 3
   },
   "file_extension": ".py",
   "mimetype": "text/x-python",
   "name": "python",
   "nbconvert_exporter": "python",
   "pygments_lexer": "ipython3",
   "version": "3.6.9"
  }
 },
 "nbformat": 4,
 "nbformat_minor": 2
}
